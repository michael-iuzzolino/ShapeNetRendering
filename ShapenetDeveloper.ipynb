{
 "cells": [
  {
   "cell_type": "markdown",
   "metadata": {},
   "source": [
    "# Shapenet Rendering\n",
    "- Blender script source: https://github.com/panmari/stanford-shapenet-renderer"
   ]
  },
  {
   "cell_type": "code",
   "execution_count": 1,
   "metadata": {},
   "outputs": [],
   "source": [
    "%load_ext autoreload\n",
    "%autoreload 2"
   ]
  },
  {
   "cell_type": "code",
   "execution_count": 2,
   "metadata": {},
   "outputs": [],
   "source": [
    "import os\n",
    "import sys\n",
    "import json\n",
    "import glob\n",
    "import cv2\n",
    "import imageio\n",
    "import shutil\n",
    "\n",
    "import subprocess\n",
    "import numpy as np\n",
    "\n",
    "from modules.ShapeNetHandler import ShapeNetHandler\n",
    "import modules.utils\n",
    "\n",
    "from IPython.display import display"
   ]
  },
  {
   "cell_type": "markdown",
   "metadata": {},
   "source": [
    "# Load ShapeNet Handler"
   ]
  },
  {
   "cell_type": "code",
   "execution_count": 3,
   "metadata": {},
   "outputs": [],
   "source": [
    "shapenet_root = \"/hdd/mliuzzolino/ShapeNet/data/ShapeNetCore.v2\"\n",
    "shapenet_handler = ShapeNetHandler(shapenet_root)"
   ]
  },
  {
   "cell_type": "markdown",
   "metadata": {},
   "source": [
    "## Print available categories by name\n",
    "- Can use name to condition random sampling"
   ]
  },
  {
   "cell_type": "code",
   "execution_count": 4,
   "metadata": {},
   "outputs": [],
   "source": [
    "# shapenet_handler.print_categories()"
   ]
  },
  {
   "cell_type": "markdown",
   "metadata": {},
   "source": [
    "## Randomly Sample a filepath"
   ]
  },
  {
   "cell_type": "code",
   "execution_count": 5,
   "metadata": {},
   "outputs": [],
   "source": [
    "temp_obj_filepath, temp_synset_id, temp_instance_id, temp_obj_name = shapenet_handler.sample_obj(category_name='car')"
   ]
  },
  {
   "cell_type": "markdown",
   "metadata": {},
   "source": [
    "## Output Path"
   ]
  },
  {
   "cell_type": "code",
   "execution_count": 6,
   "metadata": {},
   "outputs": [],
   "source": [
    "_OUTPUT_ROOT = 'render_output'"
   ]
  },
  {
   "cell_type": "markdown",
   "metadata": {},
   "source": [
    "# Render"
   ]
  },
  {
   "cell_type": "code",
   "execution_count": 7,
   "metadata": {},
   "outputs": [],
   "source": [
    "_N_VIEW_ANGLES = 72\n",
    "_N_MODELS_TO_RENDER = 30\n",
    "_RANDOM_SCALING = False\n",
    "_OVERWRITE = True\n",
    "_RENDER_SCRIPT = \"scripts/blender_render.py\"\n",
    "_TARGET_CATEGORY_LIST = ['airplane', 'car']"
   ]
  },
  {
   "cell_type": "markdown",
   "metadata": {},
   "source": [
    "## Run Blender"
   ]
  },
  {
   "cell_type": "code",
   "execution_count": 8,
   "metadata": {},
   "outputs": [
    {
     "name": "stdout",
     "output_type": "stream",
     "text": [
      "[1/30] -- SynsetID: 02958343 -- InstanceID: cb9577139b34703945e8a12904b50643 -- Name: car,auto,automobile,machine,motorcar\n",
      "[2/30] -- SynsetID: 02691156 -- InstanceID: c9063c31d7b42fa564ed556128c71bda -- Name: airplane,aeroplane,plane\n",
      "[3/30] -- SynsetID: 02958343 -- InstanceID: c8bd4d0ac34266ffaaa232d0915adae9 -- Name: car,auto,automobile,machine,motorcar\n",
      "[4/30] -- SynsetID: 02958343 -- InstanceID: 9e52d425db48a33bbda733a39f84326d -- Name: car,auto,automobile,machine,motorcar\n",
      "[5/30] -- SynsetID: 02958343 -- InstanceID: 536b6629c4f60d07e78002a96f52ef26 -- Name: car,auto,automobile,machine,motorcar\n",
      "[6/30] -- SynsetID: 02958343 -- InstanceID: ab7b5025c9e9c1921cb81cb1632a5e   -- Name: car,auto,automobile,machine,motorcar\n",
      "[7/30] -- SynsetID: 02958343 -- InstanceID: 29487596941c12dd99f6b4f86609dd6a -- Name: car,auto,automobile,machine,motorcar\n",
      "[8/30] -- SynsetID: 02691156 -- InstanceID: 75d162523d703917b87697d3904b168b -- Name: airplane,aeroplane,plane\n",
      "[9/30] -- SynsetID: 02958343 -- InstanceID: c1192c946a99ee529bdb511fb702b5ae -- Name: car,auto,automobile,machine,motorcar\n",
      "[10/30] -- SynsetID: 02691156 -- InstanceID: dd65065e6e2d31d62e350437b1fc5163 -- Name: airplane,aeroplane,plane\n",
      "[11/30] -- SynsetID: 02691156 -- InstanceID: f80343ac3064e74862347b4731688b0f -- Name: airplane,aeroplane,plane\n",
      "[12/30] -- SynsetID: 02691156 -- InstanceID: 41afa42c77cd167c2b5147716975ed8a -- Name: airplane,aeroplane,plane\n",
      "[13/30] -- SynsetID: 02691156 -- InstanceID: dc6a2bdc4c3e630a43bc71474ad05fbf -- Name: airplane,aeroplane,plane\n",
      "[14/30] -- SynsetID: 02691156 -- InstanceID: f533dc37778c6f004c949161e83c47b5 -- Name: airplane,aeroplane,plane\n",
      "[15/30] -- SynsetID: 02958343 -- InstanceID: a56dca5eab44489ca7fd25564c2e888e -- Name: car,auto,automobile,machine,motorcar\n",
      "[16/30] -- SynsetID: 02691156 -- InstanceID: dd949574a91719eb7ab25516d117381a -- Name: airplane,aeroplane,plane\n",
      "[17/30] -- SynsetID: 02958343 -- InstanceID: 7be86bfa8edd04fdced2b3ef33cc51ac -- Name: car,auto,automobile,machine,motorcar\n",
      "[18/30] -- SynsetID: 02958343 -- InstanceID: 98a4518ee8e706c94e84ac3ac08acdb2 -- Name: car,auto,automobile,machine,motorcar\n",
      "[19/30] -- SynsetID: 02958343 -- InstanceID: f655d1adac9c96d53b05c2ad25b4380f -- Name: car,auto,automobile,machine,motorcar\n",
      "[20/30] -- SynsetID: 02691156 -- InstanceID: e6d6e9544e353f9f75e49fe23848bbe5 -- Name: airplane,aeroplane,plane\n",
      "[21/30] -- SynsetID: 02691156 -- InstanceID: a5215569ae825265ff3feb917a6004b  -- Name: airplane,aeroplane,plane\n",
      "[22/30] -- SynsetID: 02958343 -- InstanceID: 4c1504f3463445dbbda733a39f84326d -- Name: car,auto,automobile,machine,motorcar\n",
      "[23/30] -- SynsetID: 02958343 -- InstanceID: dd35ef6632cf507804272696dc83193  -- Name: car,auto,automobile,machine,motorcar\n",
      "[24/30] -- SynsetID: 02691156 -- InstanceID: a487d7527a0d0c2076b0a025d05432d  -- Name: airplane,aeroplane,plane\n",
      "[25/30] -- SynsetID: 02958343 -- InstanceID: 5b4243556369155858c383066ceeaaec -- Name: car,auto,automobile,machine,motorcar\n",
      "[26/30] -- SynsetID: 02958343 -- InstanceID: 3645fce32715e0a4bda72093f9b5aa73 -- Name: car,auto,automobile,machine,motorcar\n",
      "[27/30] -- SynsetID: 02691156 -- InstanceID: 6d52412e798efdeab87697d3904b168b -- Name: airplane,aeroplane,plane\n",
      "[28/30] -- SynsetID: 02691156 -- InstanceID: b8e4e4994d4674cf2023ec956848b741 -- Name: airplane,aeroplane,plane\n",
      "[29/30] -- SynsetID: 02691156 -- InstanceID: 68899f486f3a6015ca8607f540cc62ba -- Name: airplane,aeroplane,plane\n",
      "[30/30] -- SynsetID: 02958343 -- InstanceID: 33ca3037b6dc96c1df7375fd56cdeb81 -- Name: car,auto,automobile,machine,motorcar\n"
     ]
    }
   ],
   "source": [
    "subprocess_outputs = []\n",
    "try:\n",
    "    for img_i in range(_N_MODELS_TO_RENDER):\n",
    "        # Randomly select target category\n",
    "        target_category = np.random.choice(_TARGET_CATEGORY_LIST)\n",
    "        \n",
    "        # Sample object filepath\n",
    "        obj_filepath, synset_id, instance_id, obj_name = shapenet_handler.sample_obj(category_name=target_category)\n",
    "        \n",
    "        # Setup outpath\n",
    "        output_root = os.path.join(_OUTPUT_ROOT, f'synsetID_{synset_id}', instance_id)\n",
    "        \n",
    "        # Randomly select obj scaling\n",
    "        random_scale = np.random.uniform(0.9, 1.0) if _RANDOM_SCALING else 1.0\n",
    "        \n",
    "        if not os.path.exists(output_root) or _OVERWRITE:\n",
    "            # Remove previous directory if overwrite\n",
    "            if _OVERWRITE and os.path.exists(output_root):\n",
    "                shutil.rmtree(output_root)\n",
    "            \n",
    "            # Run blender script\n",
    "            cmd = f\"blender --background --python {_RENDER_SCRIPT} -- \"\n",
    "            cmd += f\"--output_folder {output_root} --views {_N_VIEW_ANGLES} \"\n",
    "            cmd += f\"--scale {random_scale} \"\n",
    "            cmd += f\"{obj_filepath}\"\n",
    "            out = subprocess.check_output(cmd.split(\" \"), shell=False)\n",
    "            subprocess_outputs.append(out)\n",
    "        else:\n",
    "            print(\"Skipping.\")\n",
    "        \n",
    "        # Stdout\n",
    "        stdout_str = f\"[{img_i+1}/{_N_MODELS_TO_RENDER}] -- \"\n",
    "        stdout_str += f\"SynsetID: {synset_id} -- \"\n",
    "        stdout_str += f\"InstanceID: {instance_id:32s} -- \"\n",
    "        stdout_str += f\"Name: {obj_name}\"\n",
    "        print(stdout_str)\n",
    "        \n",
    "except KeyboardInterrupt:\n",
    "    try:\n",
    "        # Try to cleanup directory with incomplete # renders\n",
    "        if len(os.listdir(output_root)) != _N_VIEW_ANGLES:\n",
    "            shutil.rmtree(output_root)\n",
    "    except:\n",
    "        pass\n",
    "    print(\"\\nEnding early.\")"
   ]
  },
  {
   "cell_type": "markdown",
   "metadata": {},
   "source": [
    "## Background Images"
   ]
  },
  {
   "cell_type": "code",
   "execution_count": 9,
   "metadata": {},
   "outputs": [],
   "source": [
    "background_imgs_root = '/hdd/mliuzzolino/Places2/places365_standard/train'\n",
    "background_img_paths = glob.glob(f'{background_imgs_root}/*/*')"
   ]
  },
  {
   "cell_type": "markdown",
   "metadata": {},
   "source": [
    "## Load Images and Animate"
   ]
  },
  {
   "cell_type": "code",
   "execution_count": 10,
   "metadata": {},
   "outputs": [],
   "source": [
    "def add_background(imgs, background_img):\n",
    "    RGB_img, mask = imgs\n",
    "    RGB_img[np.where(~mask)] = background_img[np.where(~mask)]\n",
    "    return RGB_img, mask"
   ]
  },
  {
   "cell_type": "code",
   "execution_count": 15,
   "metadata": {},
   "outputs": [
    {
     "name": "stdout",
     "output_type": "stream",
     "text": [
      "Processed model 15/15...\n",
      "Limit reached. Ending early.\n"
     ]
    }
   ],
   "source": [
    "_LOAD_LIMIT = 15\n",
    "\n",
    "limit_reached = False\n",
    "\n",
    "all_imgs = []\n",
    "rendered_synset_ids = glob.glob(f\"{_OUTPUT_ROOT}/*\")\n",
    "np.random.shuffle(rendered_synset_ids)\n",
    "for rendered_synset_id in rendered_synset_ids:\n",
    "    rendered_instance_ids = glob.glob(f\"{rendered_synset_id}/*\")\n",
    "    for rendered_instance_id in rendered_instance_ids:\n",
    "        sys.stdout.write(f\"\\rProcessed model {len(all_imgs)+1}/{_LOAD_LIMIT}...\")\n",
    "        sys.stdout.flush()\n",
    "        rendered_img_paths = np.sort(glob.glob(f\"{rendered_instance_id}/*\"))\n",
    "        \n",
    "        rendered_imgs = [modules.utils.read_image(img_path, same_size=True) \n",
    "                             for img_path in rendered_img_paths]\n",
    "        \n",
    "        random_background_path = np.random.choice(background_img_paths)\n",
    "        background_img = imageio.imread(random_background_path)\n",
    "        shape = rendered_imgs[0][0].shape[:2][::-1]\n",
    "        background_img = cv2.resize(background_img, shape)\n",
    "        rendered_imgs = [add_background(img, background_img) for img in rendered_imgs]\n",
    "        if len(rendered_imgs) != _N_VIEW_ANGLES:\n",
    "            print(f\"\\t**Error: Insufficient angles! Actual: {len(rendered_imgs)} - Expected: {_N_VIEW_ANGLES}\")\n",
    "            continue\n",
    "            \n",
    "        combined_imgs = modules.utils.combine_imgs(rendered_imgs)\n",
    "        all_imgs.append(combined_imgs)\n",
    "        \n",
    "        if len(all_imgs) >= _LOAD_LIMIT:\n",
    "            print(\"\\nLimit reached. Ending early.\")\n",
    "            limit_reached = True\n",
    "            break\n",
    "    \n",
    "    if limit_reached:\n",
    "        break"
   ]
  },
  {
   "cell_type": "code",
   "execution_count": 16,
   "metadata": {},
   "outputs": [],
   "source": [
    "# Stack all images\n",
    "stacked_imgs = modules.utils.stack_all_imgs(all_imgs, nrow=3)"
   ]
  },
  {
   "cell_type": "code",
   "execution_count": 19,
   "metadata": {},
   "outputs": [
    {
     "name": "stdout",
     "output_type": "stream",
     "text": [
      "Building animator...\n",
      "Generating animation object...\n",
      "Saving to test.gif...\n",
      "Fin.\n"
     ]
    }
   ],
   "source": [
    "savepath = 'test.gif'\n",
    "animation = modules.utils.toAnimation(stacked_imgs, figsize=(12,12), interval=100, savepath=savepath, fps=15)"
   ]
  },
  {
   "cell_type": "code",
   "execution_count": 14,
   "metadata": {},
   "outputs": [],
   "source": [
    "_SHOW_ANIMATION = False\n",
    "if _SHOW_ANIMATION:\n",
    "    display(animation)"
   ]
  },
  {
   "cell_type": "code",
   "execution_count": 21,
   "metadata": {},
   "outputs": [],
   "source": [
    "from IPython.display import Image\n",
    "Image(filename=savepath)"
   ]
  }
 ],
 "metadata": {
  "kernelspec": {
   "display_name": "Python 3",
   "language": "python",
   "name": "python3"
  },
  "language_info": {
   "codemirror_mode": {
    "name": "ipython",
    "version": 3
   },
   "file_extension": ".py",
   "mimetype": "text/x-python",
   "name": "python",
   "nbconvert_exporter": "python",
   "pygments_lexer": "ipython3",
   "version": "3.6.10"
  }
 },
 "nbformat": 4,
 "nbformat_minor": 4
}

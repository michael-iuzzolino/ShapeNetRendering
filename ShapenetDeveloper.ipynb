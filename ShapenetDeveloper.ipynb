{
 "cells": [
  {
   "cell_type": "markdown",
   "metadata": {},
   "source": [
    "# Shapenet Rendering\n",
    "- Blender script source: https://github.com/panmari/stanford-shapenet-renderer"
   ]
  },
  {
   "cell_type": "code",
   "execution_count": 1,
   "metadata": {},
   "outputs": [],
   "source": [
    "%load_ext autoreload\n",
    "%autoreload 2"
   ]
  },
  {
   "cell_type": "code",
   "execution_count": 31,
   "metadata": {},
   "outputs": [],
   "source": [
    "import os\n",
    "import sys\n",
    "import json\n",
    "import glob\n",
    "import cv2\n",
    "import imageio\n",
    "import shutil\n",
    "\n",
    "import subprocess\n",
    "import numpy as np\n",
    "\n",
    "from modules.ShapeNetHandler import ShapeNetHandler\n",
    "import modules.utils"
   ]
  },
  {
   "cell_type": "markdown",
   "metadata": {},
   "source": [
    "# Load ShapeNet Handler"
   ]
  },
  {
   "cell_type": "code",
   "execution_count": 3,
   "metadata": {},
   "outputs": [],
   "source": [
    "shapenet_root = \"/hdd/mliuzzolino/ShapeNet/data/ShapeNetCore.v2\"\n",
    "shapenet_handler = ShapeNetHandler(shapenet_root)"
   ]
  },
  {
   "cell_type": "markdown",
   "metadata": {},
   "source": [
    "## Print available categories by name\n",
    "- Can use name to condition random sampling"
   ]
  },
  {
   "cell_type": "code",
   "execution_count": 4,
   "metadata": {},
   "outputs": [],
   "source": [
    "# shapenet_handler.print_categories()"
   ]
  },
  {
   "cell_type": "markdown",
   "metadata": {},
   "source": [
    "## Randomly Sample a filepath"
   ]
  },
  {
   "cell_type": "code",
   "execution_count": 5,
   "metadata": {},
   "outputs": [
    {
     "name": "stdout",
     "output_type": "stream",
     "text": [
      "SynsetID: 02958343 -- InstanceID: 921f87f3d9a4cb8ddb37d391409760c4 -- Name: car,auto,automobile,machine,motorcar\n"
     ]
    }
   ],
   "source": [
    "obj_filepath, synset_id, instance_id = shapenet_handler.sample_obj(category_name='car')"
   ]
  },
  {
   "cell_type": "markdown",
   "metadata": {},
   "source": [
    "## Output Path"
   ]
  },
  {
   "cell_type": "code",
   "execution_count": 6,
   "metadata": {},
   "outputs": [],
   "source": [
    "_OUTPUT_ROOT = 'render_output'"
   ]
  },
  {
   "cell_type": "markdown",
   "metadata": {},
   "source": [
    "# Render"
   ]
  },
  {
   "cell_type": "code",
   "execution_count": 65,
   "metadata": {},
   "outputs": [],
   "source": [
    "_N_VIEW_ANGLES = 72\n",
    "_N_MODELS_TO_RENDER = 20\n",
    "_RANDOM_SCALING = True\n",
    "_OVERWRITE = True\n",
    "_RENDER_SCRIPT = \"scripts/blender_render.py\"\n",
    "_TARGET_CATEGORY_LIST = ['airplane', 'car']"
   ]
  },
  {
   "cell_type": "markdown",
   "metadata": {},
   "source": [
    "## Run Blender"
   ]
  },
  {
   "cell_type": "code",
   "execution_count": null,
   "metadata": {},
   "outputs": [
    {
     "name": "stdout",
     "output_type": "stream",
     "text": [
      "SynsetID: 02691156 -- InstanceID: 9fb0988ef701a11388170d426b6605b5 -- Name: airplane,aeroplane,plane\n",
      "SynsetID: 02958343 -- InstanceID: 1641efa5c92514d86c4f4dbcda5f2fc0 -- Name: car,auto,automobile,machine,motorcar\n",
      "SynsetID: 02691156 -- InstanceID: ed7e1a38fe33830b87697d3904b168b -- Name: airplane,aeroplane,plane\n",
      "SynsetID: 02691156 -- InstanceID: 28d719b73b1fcd2f5de04aad18bd94c3 -- Name: airplane,aeroplane,plane\n",
      "SynsetID: 02958343 -- InstanceID: a72134cd499fd1c4f79e091fa09130a -- Name: car,auto,automobile,machine,motorcar\n",
      "SynsetID: 02958343 -- InstanceID: 71a1122469df0bb8cc8ad0deed05da5c -- Name: car,auto,automobile,machine,motorcar\n",
      "SynsetID: 02691156 -- InstanceID: 12e127c0416f94ca4c3a35cee92bb95b -- Name: airplane,aeroplane,plane\n",
      "SynsetID: 02958343 -- InstanceID: 65d6433043c40046b82c0841410a924f -- Name: car,auto,automobile,machine,motorcar\n",
      "SynsetID: 02958343 -- InstanceID: bc7ca9eec356ce21ad32396cbf7f43dc -- Name: car,auto,automobile,machine,motorcar\n",
      "SynsetID: 02958343 -- InstanceID: a07227a41b866d26473f10e6caaeca56 -- Name: car,auto,automobile,machine,motorcar\n",
      "SynsetID: 02691156 -- InstanceID: 7713f76f4ef99f19954990879891d2b -- Name: airplane,aeroplane,plane\n",
      "SynsetID: 02691156 -- InstanceID: 4a21d3920b11cdbf1592d7a04a86fa53 -- Name: airplane,aeroplane,plane\n",
      "SynsetID: 02691156 -- InstanceID: 7d928af41b7dd26e1d0f8853f6d023e3 -- Name: airplane,aeroplane,plane\n",
      "SynsetID: 02958343 -- InstanceID: b51d8c15d8f603c350937622ac92802 -- Name: car,auto,automobile,machine,motorcar\n",
      "SynsetID: 02958343 -- InstanceID: 5c04452276a26b80d97e5ba4dc9a93c3 -- Name: car,auto,automobile,machine,motorcar\n",
      "SynsetID: 02691156 -- InstanceID: c9be9f07f5ae7c375d7629390efe0a2 -- Name: airplane,aeroplane,plane\n",
      "SynsetID: 02958343 -- InstanceID: 26c382bda051376daebb91b7dc4caa91 -- Name: car,auto,automobile,machine,motorcar\n"
     ]
    }
   ],
   "source": [
    "subprocess_outputs = []\n",
    "try:\n",
    "    for img_i in range(_N_MODELS_TO_RENDER):\n",
    "        # Randomly select target category\n",
    "        target_category = np.random.choice(_TARGET_CATEGORY_LIST)\n",
    "        \n",
    "        # Sample object filepath\n",
    "        obj_filepath, synset_id, instance_id, obj_name = shapenet_handler.sample_obj(category_name=target_category)\n",
    "        \n",
    "        # Setup outpath\n",
    "        output_root = os.path.join(_OUTPUT_ROOT, f'synsetID_{synset_id}', instance_id)\n",
    "        \n",
    "        # Randomly select obj scaling\n",
    "        random_scale = np.random.uniform(0.75, 1.0) if _RANDOM_SCALING else 1.0\n",
    "        \n",
    "        if not os.path.exists(output_root) or _OVERWRITE:\n",
    "            # Remove previous directory if overwrite\n",
    "            if _OVERWRITE and os.path.exists(output_root):\n",
    "                shutil.rmtree(output_root)\n",
    "            \n",
    "            # Run blender script\n",
    "            cmd = f\"blender --background --python {_RENDER_SCRIPT} -- \"\n",
    "            cmd += f\"--output_folder {output_root} --views {_N_VIEW_ANGLES} \"\n",
    "            cmd += f\"--scale {random_scale} \"\n",
    "            cmd += f\"{obj_filepath}\"\n",
    "            out = subprocess.check_output(cmd.split(\" \"), shell=False)\n",
    "            subprocess_outputs.append(out)\n",
    "        else:\n",
    "            print(\"Skipping.\")\n",
    "        \n",
    "        # Stdout\n",
    "        stdout_str = f\"[{img_i+1}/{_N_MODELS_TO_RENDER}] -- \"\n",
    "        stdout_str += f\"SynsetID: {synset_id} -- \"\n",
    "        stdout_str += f\"InstanceID: {instance_id:32s} -- \"\n",
    "        stdoust_str += f\"Name: {obj_name}\"\n",
    "        print(stdout_str)\n",
    "        \n",
    "except KeyboardInterrupt:\n",
    "    try:\n",
    "        # Try to cleanup directory with incomplete # renders\n",
    "        if len(os.listdir(output_root)) != _N_VIEW_ANGLES:\n",
    "            shutil.rmtree(output_root)\n",
    "    except:\n",
    "        pass\n",
    "    print(\"\\nEnding early.\")"
   ]
  },
  {
   "cell_type": "markdown",
   "metadata": {},
   "source": [
    "## Background Images"
   ]
  },
  {
   "cell_type": "code",
   "execution_count": null,
   "metadata": {},
   "outputs": [],
   "source": [
    "background_imgs_root = '/hdd/mliuzzolino/Places2/places365_standard/train'\n",
    "background_img_paths = glob.glob(f'{background_imgs_root}/*/*')"
   ]
  },
  {
   "cell_type": "markdown",
   "metadata": {},
   "source": [
    "## Load Images and Animate"
   ]
  },
  {
   "cell_type": "code",
   "execution_count": null,
   "metadata": {},
   "outputs": [],
   "source": [
    "def add_background(imgs, background_img):\n",
    "    RGB_img, mask = imgs\n",
    "    RGB_img[np.where(~mask)] = background_img[np.where(~mask)]\n",
    "    return RGB_img, mask"
   ]
  },
  {
   "cell_type": "code",
   "execution_count": null,
   "metadata": {},
   "outputs": [],
   "source": [
    "_LOAD_LIMIT = 15\n",
    "\n",
    "limit_reached = False\n",
    "\n",
    "all_imgs = []\n",
    "rendered_synset_ids = glob.glob(f\"{_OUTPUT_ROOT}/*\")\n",
    "np.random.shuffle(rendered_synset_ids)\n",
    "for rendered_synset_id in rendered_synset_ids:\n",
    "    rendered_instance_ids = glob.glob(f\"{rendered_synset_id}/*\")\n",
    "    for rendered_instance_id in rendered_instance_ids:\n",
    "        sys.stdout.write(f\"\\rProcessed model {len(all_imgs)+1}/{_LOAD_LIMIT}...\")\n",
    "        sys.stdout.flush()\n",
    "        rendered_img_paths = np.sort(glob.glob(f\"{rendered_instance_id}/*\"))\n",
    "        \n",
    "        rendered_imgs = [modules.utils.read_image(img_path, same_size=True) \n",
    "                             for img_path in rendered_img_paths]\n",
    "        \n",
    "        random_background_path = np.random.choice(background_img_paths)\n",
    "        background_img = imageio.imread(random_background_path)\n",
    "        shape = rendered_imgs[0][0].shape[:2][::-1]\n",
    "        background_img = cv2.resize(background_img, shape)\n",
    "        rendered_imgs = [add_background(img, background_img) for img in rendered_imgs]\n",
    "        if len(rendered_imgs) != _N_VIEW_ANGLES:\n",
    "            print(f\"\\t**Error: Insufficient angles! Actual: {len(rendered_imgs)} - Expected: {_N_VIEW_ANGLES}\")\n",
    "            continue\n",
    "            \n",
    "        combined_imgs = modules.utils.combine_imgs(rendered_imgs)\n",
    "        all_imgs.append(combined_imgs)\n",
    "        \n",
    "        if len(all_imgs) >= _LOAD_LIMIT:\n",
    "            print(\"Breaking..\")\n",
    "            limit_reached = True\n",
    "            break\n",
    "    \n",
    "    if limit_reached:\n",
    "        break"
   ]
  },
  {
   "cell_type": "code",
   "execution_count": null,
   "metadata": {},
   "outputs": [],
   "source": [
    "# Stack all images\n",
    "stacked_imgs = modules.utils.stack_all_imgs(all_imgs, nrow=3)"
   ]
  },
  {
   "cell_type": "code",
   "execution_count": null,
   "metadata": {},
   "outputs": [],
   "source": [
    "modules.utils.toAnimation(stacked_imgs, figsize=(12,12), interval=100, savepath='test.mp4', fps=15)"
   ]
  },
  {
   "cell_type": "code",
   "execution_count": null,
   "metadata": {},
   "outputs": [],
   "source": []
  }
 ],
 "metadata": {
  "kernelspec": {
   "display_name": "Python 3",
   "language": "python",
   "name": "python3"
  },
  "language_info": {
   "codemirror_mode": {
    "name": "ipython",
    "version": 3
   },
   "file_extension": ".py",
   "mimetype": "text/x-python",
   "name": "python",
   "nbconvert_exporter": "python",
   "pygments_lexer": "ipython3",
   "version": "3.6.10"
  }
 },
 "nbformat": 4,
 "nbformat_minor": 4
}

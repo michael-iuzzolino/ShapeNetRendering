{
 "cells": [
  {
   "cell_type": "markdown",
   "metadata": {},
   "source": [
    "# Shapenet Rendering\n",
    "- Blender script source: https://github.com/panmari/stanford-shapenet-renderer"
   ]
  },
  {
   "cell_type": "code",
   "execution_count": 1,
   "metadata": {},
   "outputs": [],
   "source": [
    "%load_ext autoreload\n",
    "%autoreload 2"
   ]
  },
  {
   "cell_type": "code",
   "execution_count": 2,
   "metadata": {},
   "outputs": [],
   "source": [
    "import os\n",
    "import sys\n",
    "import json\n",
    "import glob\n",
    "import cv2\n",
    "import imageio\n",
    "import shutil\n",
    "\n",
    "import subprocess\n",
    "import numpy as np\n",
    "\n",
    "from modules.ShapeNetHandler import ShapeNetHandler\n",
    "import modules.utils"
   ]
  },
  {
   "cell_type": "markdown",
   "metadata": {},
   "source": [
    "# Load ShapeNet Handler"
   ]
  },
  {
   "cell_type": "code",
   "execution_count": 3,
   "metadata": {},
   "outputs": [],
   "source": [
    "shapenet_root = \"/hdd/mliuzzolino/ShapeNet/data/ShapeNetCore.v2\"\n",
    "shapenet_handler = ShapeNetHandler(shapenet_root)"
   ]
  },
  {
   "cell_type": "markdown",
   "metadata": {},
   "source": [
    "## Print available categories by name\n",
    "- Can use name to condition random sampling"
   ]
  },
  {
   "cell_type": "code",
   "execution_count": 4,
   "metadata": {},
   "outputs": [],
   "source": [
    "# shapenet_handler.print_categories()"
   ]
  },
  {
   "cell_type": "markdown",
   "metadata": {},
   "source": [
    "## Randomly Sample a filepath"
   ]
  },
  {
   "cell_type": "code",
   "execution_count": 5,
   "metadata": {},
   "outputs": [
    {
     "name": "stdout",
     "output_type": "stream",
     "text": [
      "SynsetID: 02958343 -- InstanceID: 335b3ad6f7a96bf251a95aaa6caba1d3 -- Name: car,auto,automobile,machine,motorcar\n"
     ]
    }
   ],
   "source": [
    "obj_filepath, synset_id, instance_id = shapenet_handler.sample_obj(category_name='car')"
   ]
  },
  {
   "cell_type": "markdown",
   "metadata": {},
   "source": [
    "## Background Images"
   ]
  },
  {
   "cell_type": "code",
   "execution_count": 6,
   "metadata": {},
   "outputs": [],
   "source": [
    "background_imgs_root = '/hdd/mliuzzolino/Places2/places365_standard/train'\n",
    "background_img_paths = glob.glob(f'{background_imgs_root}/*/*')"
   ]
  },
  {
   "cell_type": "markdown",
   "metadata": {},
   "source": [
    "## Output Path"
   ]
  },
  {
   "cell_type": "code",
   "execution_count": 8,
   "metadata": {},
   "outputs": [],
   "source": [
    "_OUTPUT_ROOT = 'render_output'"
   ]
  },
  {
   "cell_type": "markdown",
   "metadata": {},
   "source": [
    "# Render"
   ]
  },
  {
   "cell_type": "code",
   "execution_count": 9,
   "metadata": {},
   "outputs": [],
   "source": [
    "_N_VIEW_ANGLES = 72\n",
    "_N_MODELS_TO_RENDER = 20\n",
    "_OVERWRITE = True\n",
    "_RENDER_SCRIPT = \"scripts/blender_render.py\"\n",
    "_TARGET_CATEGORY = ''"
   ]
  },
  {
   "cell_type": "markdown",
   "metadata": {},
   "source": [
    "## Run Blender"
   ]
  },
  {
   "cell_type": "code",
   "execution_count": null,
   "metadata": {},
   "outputs": [],
   "source": [
    "subprocess_outputs = []\n",
    "try:\n",
    "    for img_i in range(_N_MODELS_TO_RENDER):\n",
    "        obj_filepath, synset_id, instance_id = shapenet_handler.sample_obj(category_name=_TARGET_CATEGORY)\n",
    "        _OUTPUT_PATH = os.path.join(_OUTPUT_ROOT, f'synsetID_{synset_id}', instance_id)\n",
    "\n",
    "        if not os.path.exists(_OUTPUT_PATH) or _OVERWRITE:\n",
    "            if _OVERWRITE and os.path.exists(_OUTPUT_PATH):\n",
    "                shutil.rmtree(_OUTPUT_PATH)\n",
    "            cmd = f\"blender --background --python {_RENDER_SCRIPT} -- \"\n",
    "            cmd += f\"--output_folder {_OUTPUT_PATH} --views {_N_VIEW_ANGLES} \"\n",
    "            cmd += f\"{obj_filepath}\"\n",
    "            out = subprocess.check_output(cmd.split(\" \"), shell=False)\n",
    "            subprocess_outputs.append(out)\n",
    "        else:\n",
    "            print(\"Skipping.\")\n",
    "except KeyboardInterrupt:\n",
    "    print(\"\\nEnding early.\")"
   ]
  },
  {
   "cell_type": "markdown",
   "metadata": {},
   "source": [
    "## Load Images and Animate"
   ]
  },
  {
   "cell_type": "code",
   "execution_count": 10,
   "metadata": {},
   "outputs": [],
   "source": [
    "def add_background(imgs, background_img):\n",
    "    RGB_img = imgs[0]\n",
    "    mask = imgs[1]\n",
    "    RGB_img[np.where(~mask)] = background_img[np.where(~mask)]\n",
    "\n",
    "    return RGB_img, mask"
   ]
  },
  {
   "cell_type": "code",
   "execution_count": 14,
   "metadata": {},
   "outputs": [
    {
     "name": "stdout",
     "output_type": "stream",
     "text": [
      "Processed model 1/20...\n",
      "Processed model 2/20...\n",
      "Processed model 3/20...\n",
      "Processed model 4/20...\n",
      "Processed model 5/20...\n",
      "Processed model 6/20...\n",
      "Processed model 7/20...\n",
      "Processed model 8/20...\n",
      "Processed model 9/20...\n",
      "Processed model 10/20...\n",
      "Processed model 11/20...\n",
      "Processed model 12/20...\n",
      "Processed model 13/20...\n",
      "Processed model 14/20...\n",
      "Processed model 15/20...\n",
      "Processed model 16/20...\n",
      "Processed model 17/20...\n",
      "Processed model 18/20...\n",
      "Processed model 19/20...\n",
      "Processed model 20/20...\n",
      "Breaking..\n"
     ]
    }
   ],
   "source": [
    "_LOAD_LIMIT = 20\n",
    "\n",
    "limit_reached = False\n",
    "\n",
    "all_imgs = []\n",
    "rendered_synset_ids = glob.glob(f\"{_OUTPUT_ROOT}/*\")\n",
    "np.random.shuffle(rendered_synset_ids)\n",
    "for rendered_synset_id in rendered_synset_ids:\n",
    "    rendered_instance_ids = glob.glob(f\"{rendered_synset_id}/*\")\n",
    "    for rendered_instance_id in rendered_instance_ids:\n",
    "        sys.stdout.write(f\"\\rProcessed model {len(all_imgs)+1}/{_LOAD_LIMIT}...\")\n",
    "        sys.stdout.flush()\n",
    "        rendered_img_paths = np.sort(glob.glob(f\"{rendered_instance_id}/*\"))\n",
    "        \n",
    "        rendered_imgs = [modules.utils.read_image(img_path, same_size=True) \n",
    "                             for img_path in rendered_img_paths]\n",
    "        \n",
    "        random_background_path = np.random.choice(background_img_paths)\n",
    "        background_img = imageio.imread(random_background_path)\n",
    "        shape = rendered_imgs[0][0].shape[:2][::-1]\n",
    "        background_img = cv2.resize(background_img, shape)\n",
    "        rendered_imgs = [add_background(img, background_img) for img in rendered_imgs]\n",
    "        if len(rendered_imgs) != _N_VIEW_ANGLES:\n",
    "            print(f\"\\t**Error: Insufficient angles! Actual: {len(rendered_imgs)} - Expected: {_N_VIEW_ANGLES}\")\n",
    "            continue\n",
    "            \n",
    "        combined_imgs = modules.utils.combine_imgs(rendered_imgs)\n",
    "        all_imgs.append(combined_imgs)\n",
    "        \n",
    "        if len(all_imgs) >= _LOAD_LIMIT:\n",
    "            print(\"Breaking..\")\n",
    "            limit_reached = True\n",
    "            break\n",
    "    \n",
    "    if limit_reached:\n",
    "        break"
   ]
  },
  {
   "cell_type": "code",
   "execution_count": null,
   "metadata": {},
   "outputs": [],
   "source": [
    "# Stack all images\n",
    "stacked_imgs = modules.utils.stack_all_imgs(all_imgs, nrow=2)"
   ]
  },
  {
   "cell_type": "code",
   "execution_count": null,
   "metadata": {},
   "outputs": [],
   "source": [
    "modules.utils.toAnimation(stacked_imgs, figsize=(12,12), interval=100, savepath='test.mp4', fps=15)"
   ]
  },
  {
   "cell_type": "code",
   "execution_count": null,
   "metadata": {},
   "outputs": [],
   "source": []
  }
 ],
 "metadata": {
  "kernelspec": {
   "display_name": "Python 3",
   "language": "python",
   "name": "python3"
  },
  "language_info": {
   "codemirror_mode": {
    "name": "ipython",
    "version": 3
   },
   "file_extension": ".py",
   "mimetype": "text/x-python",
   "name": "python",
   "nbconvert_exporter": "python",
   "pygments_lexer": "ipython3",
   "version": "3.6.10"
  }
 },
 "nbformat": 4,
 "nbformat_minor": 4
}

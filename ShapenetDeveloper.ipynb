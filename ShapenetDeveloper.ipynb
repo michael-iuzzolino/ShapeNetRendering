{
 "cells": [
  {
   "cell_type": "markdown",
   "metadata": {},
   "source": [
    "# Shapenet Rendering\n",
    "- Blender script source: https://github.com/panmari/stanford-shapenet-renderer\n",
    "\n",
    "## Semantic Segmentation\n",
    "If rendering a single object, we get a mask (interpretted as a binary segmentation map) for free. However, if we want to render multiple objects, either for rendering our target object into a 3D scene or for using secondary models to produce oclusions, then we need to do something more. \n",
    "\n",
    "Here are some references for how we can do semantic segmentation:\n",
    "- https://blender.stackexchange.com/questions/79595/change-diffuse-shader-to-emission-shader-without-affecting-shader-color\n",
    "- https://blender.stackexchange.com/questions/80906/create-a-segmentation-picture-with-each-object-class-rendered-in-different-color/162746#162746\n",
    "- https://blender.stackexchange.com/questions/34609/is-there-a-way-to-streamline-scripting-these-shaders-and-modifier-keyframes\n",
    "- https://github.com/DIYer22/bpycv#install\n",
    " - This seems promising, but I had issues when trying to install openexr"
   ]
  },
  {
   "cell_type": "code",
   "execution_count": 1,
   "metadata": {},
   "outputs": [],
   "source": [
    "%load_ext autoreload\n",
    "%autoreload 2"
   ]
  },
  {
   "cell_type": "code",
   "execution_count": 2,
   "metadata": {},
   "outputs": [],
   "source": [
    "import os\n",
    "import sys\n",
    "import json\n",
    "import glob\n",
    "import cv2\n",
    "import imageio\n",
    "import shutil\n",
    "\n",
    "import subprocess\n",
    "import numpy as np\n",
    "\n",
    "from modules.ShapeNetHandler import ShapeNetHandler\n",
    "import modules.utils\n",
    "\n",
    "from IPython.display import Image, display"
   ]
  },
  {
   "cell_type": "markdown",
   "metadata": {},
   "source": [
    "# Load ShapeNet Handler"
   ]
  },
  {
   "cell_type": "code",
   "execution_count": 3,
   "metadata": {},
   "outputs": [],
   "source": [
    "shapenet_root = \"/hdd/mliuzzolino/ShapeNet/data/ShapeNetCore.v2\"\n",
    "shapenet_handler = ShapeNetHandler(shapenet_root)"
   ]
  },
  {
   "cell_type": "markdown",
   "metadata": {},
   "source": [
    "## Print available categories by name\n",
    "- Can use name to condition random sampling"
   ]
  },
  {
   "cell_type": "code",
   "execution_count": 4,
   "metadata": {},
   "outputs": [],
   "source": [
    "# shapenet_handler.print_categories()"
   ]
  },
  {
   "cell_type": "markdown",
   "metadata": {},
   "source": [
    "## Randomly Sample a filepath"
   ]
  },
  {
   "cell_type": "code",
   "execution_count": 5,
   "metadata": {},
   "outputs": [],
   "source": [
    "temp_obj_filepath, temp_synset_id, temp_instance_id, temp_obj_name = shapenet_handler.sample_obj(category_name='car')"
   ]
  },
  {
   "cell_type": "markdown",
   "metadata": {},
   "source": [
    "## Output Path"
   ]
  },
  {
   "cell_type": "code",
   "execution_count": 6,
   "metadata": {},
   "outputs": [],
   "source": [
    "_OUTPUT_ROOT = 'render_output'"
   ]
  },
  {
   "cell_type": "markdown",
   "metadata": {},
   "source": [
    "# Render"
   ]
  },
  {
   "cell_type": "code",
   "execution_count": 24,
   "metadata": {},
   "outputs": [],
   "source": [
    "_N_VIEW_ANGLES = 72\n",
    "_N_MODELS_TO_RENDER = 100\n",
    "_RANDOM_SCALING = False\n",
    "_OVERWRITE = True\n",
    "_RENDER_ENGINE = 'BLENDER_RENDER' # 'CYCLES', 'BLENDER_RENDER'\n",
    "_RENDER_SCRIPT = \"scripts/blender_render.py\"\n",
    "_TARGET_CATEGORY_LIST = []#['airplane', 'car']"
   ]
  },
  {
   "cell_type": "markdown",
   "metadata": {},
   "source": [
    "## Run Blender"
   ]
  },
  {
   "cell_type": "code",
   "execution_count": null,
   "metadata": {},
   "outputs": [
    {
     "name": "stdout",
     "output_type": "stream",
     "text": [
      "[1/100] -- SynsetID: 02942699 -- InstanceID: 68f66f5ab594fd3cc2890daf3a9f7413 -- Name: camera,photographic camera\n",
      "[6/100] -- SynsetID: 03337140 -- InstanceID: 3711f7ae4f528f7963f393abca61510  -- Name: file,file cabinet,filing cabinet\n",
      "[7/100] -- SynsetID: 04225987 -- InstanceID: 11aaf89382b3a4de983ec12a2b33f18b -- Name: skateboard\n",
      "[8/100] -- SynsetID: 04074963 -- InstanceID: b2c79f7add7cb56ac03df0bb156692e3 -- Name: remote control,remote\n",
      "[9/100] -- SynsetID: 03207941 -- InstanceID: 5d17e90f512a3dc7df3a1b0d597ce76e -- Name: dishwasher,dish washer,dishwashing machine\n",
      "[10/100] -- SynsetID: 02801938 -- InstanceID: 3c06fb3595c39a4eeb6c29873b08c02  -- Name: basket,handbasket\n",
      "[11/100] -- SynsetID: 03085013 -- InstanceID: 1e11af6fa598cd6960113b959388060d -- Name: computer keyboard,keypad\n",
      "[12/100] -- SynsetID: 04554684 -- InstanceID: da0179a5b68f13586a6a687121d74e50 -- Name: washer,automatic washer,washing machine\n",
      "[13/100] -- SynsetID: 04379243 -- InstanceID: affb5a80f11b383e1c25d54737ed5c8e -- Name: table\n",
      "[14/100] -- SynsetID: 03001627 -- InstanceID: 31dbef39a3c46b07bb8e07e9ebf0b9cb -- Name: chair\n",
      "[15/100] -- SynsetID: 03928116 -- InstanceID: 47aa44d818a406d822d6b12a61cbb9ae -- Name: piano,pianoforte,forte-piano\n",
      "[16/100] -- SynsetID: 04554684 -- InstanceID: a339c3e29128a402c8e4135ffa0bbfdd -- Name: washer,automatic washer,washing machine\n",
      "[17/100] -- SynsetID: 02942699 -- InstanceID: ee58b922bd93d01be4f112f1b3124b84 -- Name: camera,photographic camera\n",
      "[18/100] -- SynsetID: 03337140 -- InstanceID: abe41b86df0dcd5a3da04ac9f7df60de -- Name: file,file cabinet,filing cabinet\n",
      "[19/100] -- SynsetID: 03948459 -- InstanceID: d7e86e0e5b1982d4bf0ab4d7096d87f2 -- Name: pistol,handgun,side arm,shooting iron\n",
      "[20/100] -- SynsetID: 03938244 -- InstanceID: 24dfe6ef933ae9692257a9702919f3a  -- Name: pillow\n",
      "[21/100] -- SynsetID: 04379243 -- InstanceID: 8ad9868947e7391113625562b56161f0 -- Name: table\n",
      "[22/100] -- SynsetID: 02801938 -- InstanceID: 9c7cdfa8de249b6c924bf081da6f024c -- Name: basket,handbasket\n",
      "[23/100] -- SynsetID: 02954340 -- InstanceID: 48052012e0500fb5a52821bf1aa3b19a -- Name: cap\n",
      "[24/100] -- SynsetID: 03624134 -- InstanceID: 3ffc61a3380f4104823590ed8a67d74b -- Name: knife\n",
      "[25/100] -- SynsetID: 03593526 -- InstanceID: 49a97b1ceaee4a15525b133235812833 -- Name: jar\n",
      "[26/100] -- SynsetID: 03710193 -- InstanceID: fd3227fb95b8d29b60ffa41581e372a1 -- Name: mailbox,letter box\n",
      "[27/100] -- SynsetID: 04330267 -- InstanceID: 8c2491e5245804d1ffc6e457221b9271 -- Name: stove\n",
      "[28/100] -- SynsetID: 03642806 -- InstanceID: 6b6edbe38c23db5a4599f539a26d98d1 -- Name: laptop,laptop computer\n",
      "[29/100] -- SynsetID: 03928116 -- InstanceID: c9fc3fc5c6cd686a5a2f45519a421de9 -- Name: piano,pianoforte,forte-piano\n",
      "[30/100] -- SynsetID: 04379243 -- InstanceID: afea61dd761b70a3fc0035da39bd5e1  -- Name: table\n",
      "[31/100] -- SynsetID: 03001627 -- InstanceID: df7fc0b3b796714fd00dd29272c1070b -- Name: chair\n",
      "[32/100] -- SynsetID: 02954340 -- InstanceID: e7e61ccc69e18440a52821bf1aa3b19a -- Name: cap\n",
      "[33/100] -- SynsetID: 04530566 -- InstanceID: 8508ec8efeedf4a41ff8f5b5b24b7b46 -- Name: vessel,watercraft\n",
      "[34/100] -- SynsetID: 03797390 -- InstanceID: 387b695db51190d3be276203d0b1a33f -- Name: mug\n",
      "[35/100] -- SynsetID: 02747177 -- InstanceID: c2d6739b7d2b6cadad5067eac75a07f7 -- Name: ashcan,trash can,garbage can,wastebin,ash bin,ash-bin,ashbin,dustbin,trash barrel,trash bin\n",
      "[36/100] -- SynsetID: 02747177 -- InstanceID: 161e5e86fa48686888cad7f6c0e6001  -- Name: ashcan,trash can,garbage can,wastebin,ash bin,ash-bin,ashbin,dustbin,trash barrel,trash bin\n",
      "[37/100] -- SynsetID: 02828884 -- InstanceID: 8ad57afa55cebfe0dad433a29cb627ea -- Name: bench\n",
      "[38/100] -- SynsetID: 03337140 -- InstanceID: 53af35fe75337509bce0d8d171e7e87b -- Name: file,file cabinet,filing cabinet\n",
      "[39/100] -- SynsetID: 04256520 -- InstanceID: 52687262fd77ba7e4de2cf65d389c763 -- Name: sofa,couch,lounge\n",
      "[40/100] -- SynsetID: 03207941 -- InstanceID: 7d4a04196d3b8eba7984fb9ec7e40829 -- Name: dishwasher,dish washer,dishwashing machine\n",
      "[41/100] -- SynsetID: 04330267 -- InstanceID: 2c0c7a289d37157ecd8f3fe9ca2145e1 -- Name: stove\n",
      "[42/100] -- SynsetID: 02808440 -- InstanceID: ec1d737b5962bd306e12d65bc1882e95 -- Name: bathtub,bathing tub,bath,tub\n",
      "[43/100] -- SynsetID: 02691156 -- InstanceID: 125417c3fa9bc1b130f57e42c77d3894 -- Name: airplane,aeroplane,plane\n",
      "[44/100] -- SynsetID: 02924116 -- InstanceID: f7c66493e877829eff8a739dd4de4368 -- Name: bus,autobus,coach,charabanc,double-decker,jitney,motorbus,motorcoach,omnibus,passenger vehi\n",
      "[45/100] -- SynsetID: 02747177 -- InstanceID: 71f3b101a6d47811cb2a965e75be701c -- Name: ashcan,trash can,garbage can,wastebin,ash bin,ash-bin,ashbin,dustbin,trash barrel,trash bin\n",
      "[46/100] -- SynsetID: 03046257 -- InstanceID: 2124dd3d1d47f3873f6e4e0af3a53c1b -- Name: clock\n",
      "[47/100] -- SynsetID: 03642806 -- InstanceID: 48e07903fe5057a1d7289d94a5c9ea3f -- Name: laptop,laptop computer\n",
      "[48/100] -- SynsetID: 02942699 -- InstanceID: d6721b4ee3d004b8c7e03242f1bf8d19 -- Name: camera,photographic camera\n",
      "[49/100] -- SynsetID: 02942699 -- InstanceID: 657a650215e453846f90fff80f29e77d -- Name: camera,photographic camera\n",
      "[50/100] -- SynsetID: 03991062 -- InstanceID: b8ad53f8af09fd10e299f2c0038a26f5 -- Name: pot,flowerpot\n",
      "[51/100] -- SynsetID: 03790512 -- InstanceID: 7b4eb8cbc470d0d6d5dde04c96fd8146 -- Name: motorcycle,bike\n",
      "[52/100] -- SynsetID: 03636649 -- InstanceID: 2f345ba66e683c2bc5a208307819a3a1 -- Name: lamp\n",
      "[53/100] -- SynsetID: 04468005 -- InstanceID: e92e28a1ec1c9b2dd85b408a8edc983b -- Name: train,railroad train\n",
      "[54/100] -- SynsetID: 02818832 -- InstanceID: 3378d2b70f083c173f71f25fc2bf23a6 -- Name: bed\n",
      "[55/100] -- SynsetID: 02843684 -- InstanceID: 8a159ab6dc7b409cc211ff482a022b4d -- Name: birdhouse\n",
      "[56/100] -- SynsetID: 03948459 -- InstanceID: a4c228e14915863eb8efd193bc3eb26e -- Name: pistol,handgun,side arm,shooting iron\n",
      "[57/100] -- SynsetID: 03928116 -- InstanceID: 673c3f77f3702338a1845d2858b500eb -- Name: piano,pianoforte,forte-piano\n",
      "[58/100] -- SynsetID: 04004475 -- InstanceID: 73a7d3d05b9dd459ffe3432ba4f2e6d3 -- Name: printer,printing machine\n",
      "[59/100] -- SynsetID: 03046257 -- InstanceID: 327182214670d929f51f77a6d7299806 -- Name: clock\n"
     ]
    }
   ],
   "source": [
    "subprocess_outputs = []\n",
    "try:\n",
    "    for img_i in range(_N_MODELS_TO_RENDER):\n",
    "        # Randomly select target category\n",
    "        target_category = ''\n",
    "        if _TARGET_CATEGORY_LIST != []:\n",
    "            target_category = np.random.choice(_TARGET_CATEGORY_LIST)\n",
    "        \n",
    "        # Sample object filepath\n",
    "        obj_filepath, synset_id, instance_id, obj_name = shapenet_handler.sample_obj(category_name=target_category)\n",
    "        \n",
    "        # Setup outpath\n",
    "        output_root = os.path.join(_OUTPUT_ROOT, _RENDER_ENGINE, f'synsetID_{synset_id}', instance_id)\n",
    "        \n",
    "        # Randomly select obj scaling\n",
    "        random_scale = np.random.uniform(0.99, 1.15) if _RANDOM_SCALING else 1.0\n",
    "        random_n_occlusions = np.random.randint(3, 7)\n",
    "        \n",
    "        if not os.path.exists(output_root) or _OVERWRITE:\n",
    "            # Remove previous directory if overwrite\n",
    "            if _OVERWRITE and os.path.exists(output_root):\n",
    "                shutil.rmtree(output_root)\n",
    "            \n",
    "            # Run blender script\n",
    "            cmd = f\"blender --background --python {_RENDER_SCRIPT} -- \"\n",
    "            cmd += f\"--output_folder {output_root} --views {_N_VIEW_ANGLES} \"\n",
    "            cmd += f\"--scale {random_scale} --n_occlusions {random_n_occlusions} \"\n",
    "            cmd += f\"--render_engine {_RENDER_ENGINE} \"\n",
    "            cmd += f\"{obj_filepath}\"\n",
    "            out = subprocess.check_output(cmd.split(\" \"), shell=False)\n",
    "            subprocess_outputs.append(out)\n",
    "        else:\n",
    "            print(\"Skipping.\")\n",
    "        \n",
    "        # Stdout\n",
    "        stdout_str = f\"[{img_i+1}/{_N_MODELS_TO_RENDER}] -- \"\n",
    "        stdout_str += f\"SynsetID: {synset_id} -- \"\n",
    "        stdout_str += f\"InstanceID: {instance_id:32s} -- \"\n",
    "        stdout_str += f\"Name: {obj_name}\"\n",
    "        print(stdout_str)\n",
    "        \n",
    "except KeyboardInterrupt:\n",
    "    try:\n",
    "        # Try to cleanup directory with incomplete # renders\n",
    "        if len(os.listdir(output_root)) != _N_VIEW_ANGLES:\n",
    "            shutil.rmtree(output_root)\n",
    "    except:\n",
    "        pass\n",
    "    print(\"\\nEnding early.\")"
   ]
  },
  {
   "cell_type": "markdown",
   "metadata": {},
   "source": [
    "## Background Images"
   ]
  },
  {
   "cell_type": "code",
   "execution_count": 19,
   "metadata": {},
   "outputs": [],
   "source": [
    "background_imgs_root = '/hdd/mliuzzolino/Places2/places365_standard/train'\n",
    "background_img_paths = glob.glob(f'{background_imgs_root}/*/*')"
   ]
  },
  {
   "cell_type": "markdown",
   "metadata": {},
   "source": [
    "## Load Images and Animate"
   ]
  },
  {
   "cell_type": "code",
   "execution_count": 20,
   "metadata": {},
   "outputs": [
    {
     "name": "stdout",
     "output_type": "stream",
     "text": [
      "Processed model 18/18...\n",
      "Limit reached. Ending early.\n"
     ]
    }
   ],
   "source": [
    "_LOAD_LIMIT = 18\n",
    "\n",
    "limit_reached = False\n",
    "\n",
    "all_imgs = []\n",
    "rendered_instance_ids = glob.glob(f\"{os.path.join(_OUTPUT_ROOT, _RENDER_ENGINE)}/*/*\")\n",
    "np.random.shuffle(rendered_instance_ids)\n",
    "for rendered_instance_id in rendered_instance_ids:\n",
    "    sys.stdout.write(f\"\\rProcessed model {len(all_imgs)+1}/{_LOAD_LIMIT}...\")\n",
    "    sys.stdout.flush()\n",
    "\n",
    "    # Load paths\n",
    "    target_img_paths = np.sort(glob.glob(f\"{rendered_instance_id}/*_target.png\"))\n",
    "    occluded_img_paths = [ele.replace('_target', '_occluded') for ele in target_img_paths]\n",
    "    semantic_seg_paths = [ele.replace('_target', '_semseg') for ele in target_img_paths]\n",
    "    \n",
    "\n",
    "    # Load images\n",
    "    target_imgs = [modules.utils.read_image(img_path, parse_mask=True) for img_path in target_img_paths]\n",
    "    occluded_imgs = [modules.utils.read_image(img_path) for img_path in occluded_img_paths]\n",
    "    segmentation_imgs = [modules.utils.read_image(img_path) for img_path in semantic_seg_paths]\n",
    "\n",
    "    # Ensure correct number of view angles present\n",
    "    if len(occluded_imgs) != _N_VIEW_ANGLES:\n",
    "        print(f\"\\t**Error: Insufficient angles! Actual: {len(occluded_imgs)} - Expected: {_N_VIEW_ANGLES}\")\n",
    "        continue\n",
    "\n",
    "    # Setup background image\n",
    "    background_img = modules.utils.sample_background_img(background_img_paths, shape=occluded_imgs[0].shape)\n",
    "\n",
    "    # Apply background image\n",
    "    target_imgs = [modules.utils.add_background(rgb_img, seg_img, background_img) \n",
    "                         for rgb_img, seg_img in target_imgs]\n",
    "    occluded_imgs = [modules.utils.add_background(rgb_img, seg_img, background_img) \n",
    "                         for rgb_img, seg_img in zip(occluded_imgs, segmentation_imgs)]\n",
    "\n",
    "    # Join rgb image with semantic seg image\n",
    "    joined_imgs = [(target, occluded, mask) \n",
    "                       for target, occluded, mask in zip(target_imgs, occluded_imgs, segmentation_imgs)]\n",
    "\n",
    "    # Combine images\n",
    "    joined_imgs = modules.utils.combine_imgs(joined_imgs)\n",
    "    all_imgs.append(joined_imgs)\n",
    "\n",
    "    # Check limit\n",
    "    if len(all_imgs) >= _LOAD_LIMIT:\n",
    "        print(\"\\nLimit reached. Ending early.\")\n",
    "        limit_reached = True\n",
    "        break"
   ]
  },
  {
   "cell_type": "code",
   "execution_count": 21,
   "metadata": {},
   "outputs": [],
   "source": [
    "# Stack all images\n",
    "stacked_imgs = modules.utils.stack_all_imgs(all_imgs, nrow=3)"
   ]
  },
  {
   "cell_type": "code",
   "execution_count": 22,
   "metadata": {},
   "outputs": [
    {
     "name": "stdout",
     "output_type": "stream",
     "text": [
      "Building animator...\n",
      "Generating animation object...\n",
      "Saving to test.gif...\n",
      "Fin.\n"
     ]
    }
   ],
   "source": [
    "savepath = 'test.gif'\n",
    "animation = modules.utils.toAnimation(stacked_imgs, figsize=(12,12), interval=100, savepath=savepath, fps=15)"
   ]
  },
  {
   "cell_type": "code",
   "execution_count": 23,
   "metadata": {},
   "outputs": [],
   "source": [
    "if savepath.endswith('gif'):\n",
    "    display(Image(filename=savepath))"
   ]
  },
  {
   "cell_type": "code",
   "execution_count": null,
   "metadata": {},
   "outputs": [],
   "source": []
  }
 ],
 "metadata": {
  "kernelspec": {
   "display_name": "Python 3",
   "language": "python",
   "name": "python3"
  },
  "language_info": {
   "codemirror_mode": {
    "name": "ipython",
    "version": 3
   },
   "file_extension": ".py",
   "mimetype": "text/x-python",
   "name": "python",
   "nbconvert_exporter": "python",
   "pygments_lexer": "ipython3",
   "version": "3.6.10"
  }
 },
 "nbformat": 4,
 "nbformat_minor": 4
}

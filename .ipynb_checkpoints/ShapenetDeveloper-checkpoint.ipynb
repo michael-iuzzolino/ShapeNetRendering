{
 "cells": [
  {
   "cell_type": "markdown",
   "metadata": {},
   "source": [
    "# Shapenet Rendering\n",
    "- Blender script source: https://github.com/panmari/stanford-shapenet-renderer\n",
    "\n",
    "## Semantic Segmentation\n",
    "If rendering a single object, we get a mask (interpretted as a binary segmentation map) for free. However, if we want to render multiple objects, either for rendering our target object into a 3D scene or for using secondary models to produce oclusions, then we need to do something more. \n",
    "\n",
    "Here are some references for how we can do semantic segmentation:\n",
    "- https://blender.stackexchange.com/questions/79595/change-diffuse-shader-to-emission-shader-without-affecting-shader-color\n",
    "- https://blender.stackexchange.com/questions/80906/create-a-segmentation-picture-with-each-object-class-rendered-in-different-color/162746#162746\n",
    "- https://blender.stackexchange.com/questions/34609/is-there-a-way-to-streamline-scripting-these-shaders-and-modifier-keyframes\n",
    "- https://github.com/DIYer22/bpycv#install\n",
    " - This seems promising, but I had issues when trying to install openexr"
   ]
  },
  {
   "cell_type": "code",
   "execution_count": 1,
   "metadata": {},
   "outputs": [],
   "source": [
    "%load_ext autoreload\n",
    "%autoreload 2"
   ]
  },
  {
   "cell_type": "code",
   "execution_count": 2,
   "metadata": {},
   "outputs": [],
   "source": [
    "import os\n",
    "import sys\n",
    "import json\n",
    "import glob\n",
    "import cv2\n",
    "import imageio\n",
    "import shutil\n",
    "\n",
    "import subprocess\n",
    "import numpy as np\n",
    "\n",
    "from modules.ShapeNetHandler import ShapeNetHandler\n",
    "import modules.utils\n",
    "\n",
    "from IPython.display import Image, display"
   ]
  },
  {
   "cell_type": "markdown",
   "metadata": {},
   "source": [
    "# Load ShapeNet Handler"
   ]
  },
  {
   "cell_type": "code",
   "execution_count": 3,
   "metadata": {},
   "outputs": [],
   "source": [
    "shapenet_root = \"/hdd/mliuzzolino/ShapeNet/data/ShapeNetCore.v2\"\n",
    "shapenet_handler = ShapeNetHandler(shapenet_root)"
   ]
  },
  {
   "cell_type": "markdown",
   "metadata": {},
   "source": [
    "## Print available categories by name\n",
    "- Can use name to condition random sampling"
   ]
  },
  {
   "cell_type": "code",
   "execution_count": 4,
   "metadata": {},
   "outputs": [],
   "source": [
    "# shapenet_handler.print_categories()"
   ]
  },
  {
   "cell_type": "markdown",
   "metadata": {},
   "source": [
    "## Randomly Sample a filepath"
   ]
  },
  {
   "cell_type": "code",
   "execution_count": 5,
   "metadata": {},
   "outputs": [],
   "source": [
    "temp_obj_filepath, temp_synset_id, temp_instance_id, temp_obj_name = shapenet_handler.sample_obj(category_name='car')"
   ]
  },
  {
   "cell_type": "markdown",
   "metadata": {},
   "source": [
    "## Output Path"
   ]
  },
  {
   "cell_type": "code",
   "execution_count": 6,
   "metadata": {},
   "outputs": [],
   "source": [
    "_OUTPUT_ROOT = 'render_output'"
   ]
  },
  {
   "cell_type": "markdown",
   "metadata": {},
   "source": [
    "# Render"
   ]
  },
  {
   "cell_type": "code",
   "execution_count": 24,
   "metadata": {},
   "outputs": [],
   "source": [
    "_N_VIEW_ANGLES = 72\n",
    "_N_MODELS_TO_RENDER = 100\n",
    "_RANDOM_SCALING = False\n",
    "_OVERWRITE = True\n",
    "_RENDER_ENGINE = 'BLENDER_RENDER' # 'CYCLES', 'BLENDER_RENDER'\n",
    "_RENDER_SCRIPT = \"scripts/blender_render.py\"\n",
    "_TARGET_CATEGORY_LIST = []#['airplane', 'car']"
   ]
  },
  {
   "cell_type": "markdown",
   "metadata": {},
   "source": [
    "## Run Blender"
   ]
  },
  {
   "cell_type": "code",
   "execution_count": 25,
   "metadata": {},
   "outputs": [
    {
     "name": "stdout",
     "output_type": "stream",
     "text": [
      "[1/100] -- SynsetID: 02942699 -- InstanceID: 68f66f5ab594fd3cc2890daf3a9f7413 -- Name: camera,photographic camera\n",
      "[6/100] -- SynsetID: 03337140 -- InstanceID: 3711f7ae4f528f7963f393abca61510  -- Name: file,file cabinet,filing cabinet\n",
      "[7/100] -- SynsetID: 04225987 -- InstanceID: 11aaf89382b3a4de983ec12a2b33f18b -- Name: skateboard\n",
      "[8/100] -- SynsetID: 04074963 -- InstanceID: b2c79f7add7cb56ac03df0bb156692e3 -- Name: remote control,remote\n",
      "[9/100] -- SynsetID: 03207941 -- InstanceID: 5d17e90f512a3dc7df3a1b0d597ce76e -- Name: dishwasher,dish washer,dishwashing machine\n",
      "[10/100] -- SynsetID: 02801938 -- InstanceID: 3c06fb3595c39a4eeb6c29873b08c02  -- Name: basket,handbasket\n",
      "[11/100] -- SynsetID: 03085013 -- InstanceID: 1e11af6fa598cd6960113b959388060d -- Name: computer keyboard,keypad\n",
      "[12/100] -- SynsetID: 04554684 -- InstanceID: da0179a5b68f13586a6a687121d74e50 -- Name: washer,automatic washer,washing machine\n",
      "[13/100] -- SynsetID: 04379243 -- InstanceID: affb5a80f11b383e1c25d54737ed5c8e -- Name: table\n",
      "[14/100] -- SynsetID: 03001627 -- InstanceID: 31dbef39a3c46b07bb8e07e9ebf0b9cb -- Name: chair\n",
      "[15/100] -- SynsetID: 03928116 -- InstanceID: 47aa44d818a406d822d6b12a61cbb9ae -- Name: piano,pianoforte,forte-piano\n",
      "[16/100] -- SynsetID: 04554684 -- InstanceID: a339c3e29128a402c8e4135ffa0bbfdd -- Name: washer,automatic washer,washing machine\n",
      "[17/100] -- SynsetID: 02942699 -- InstanceID: ee58b922bd93d01be4f112f1b3124b84 -- Name: camera,photographic camera\n",
      "[18/100] -- SynsetID: 03337140 -- InstanceID: abe41b86df0dcd5a3da04ac9f7df60de -- Name: file,file cabinet,filing cabinet\n",
      "[19/100] -- SynsetID: 03948459 -- InstanceID: d7e86e0e5b1982d4bf0ab4d7096d87f2 -- Name: pistol,handgun,side arm,shooting iron\n",
      "[20/100] -- SynsetID: 03938244 -- InstanceID: 24dfe6ef933ae9692257a9702919f3a  -- Name: pillow\n",
      "[21/100] -- SynsetID: 04379243 -- InstanceID: 8ad9868947e7391113625562b56161f0 -- Name: table\n",
      "[22/100] -- SynsetID: 02801938 -- InstanceID: 9c7cdfa8de249b6c924bf081da6f024c -- Name: basket,handbasket\n",
      "[23/100] -- SynsetID: 02954340 -- InstanceID: 48052012e0500fb5a52821bf1aa3b19a -- Name: cap\n",
      "[24/100] -- SynsetID: 03624134 -- InstanceID: 3ffc61a3380f4104823590ed8a67d74b -- Name: knife\n",
      "[25/100] -- SynsetID: 03593526 -- InstanceID: 49a97b1ceaee4a15525b133235812833 -- Name: jar\n",
      "[26/100] -- SynsetID: 03710193 -- InstanceID: fd3227fb95b8d29b60ffa41581e372a1 -- Name: mailbox,letter box\n",
      "[27/100] -- SynsetID: 04330267 -- InstanceID: 8c2491e5245804d1ffc6e457221b9271 -- Name: stove\n",
      "[28/100] -- SynsetID: 03642806 -- InstanceID: 6b6edbe38c23db5a4599f539a26d98d1 -- Name: laptop,laptop computer\n",
      "[29/100] -- SynsetID: 03928116 -- InstanceID: c9fc3fc5c6cd686a5a2f45519a421de9 -- Name: piano,pianoforte,forte-piano\n",
      "[30/100] -- SynsetID: 04379243 -- InstanceID: afea61dd761b70a3fc0035da39bd5e1  -- Name: table\n",
      "[31/100] -- SynsetID: 03001627 -- InstanceID: df7fc0b3b796714fd00dd29272c1070b -- Name: chair\n",
      "[32/100] -- SynsetID: 02954340 -- InstanceID: e7e61ccc69e18440a52821bf1aa3b19a -- Name: cap\n",
      "[33/100] -- SynsetID: 04530566 -- InstanceID: 8508ec8efeedf4a41ff8f5b5b24b7b46 -- Name: vessel,watercraft\n",
      "[34/100] -- SynsetID: 03797390 -- InstanceID: 387b695db51190d3be276203d0b1a33f -- Name: mug\n",
      "[35/100] -- SynsetID: 02747177 -- InstanceID: c2d6739b7d2b6cadad5067eac75a07f7 -- Name: ashcan,trash can,garbage can,wastebin,ash bin,ash-bin,ashbin,dustbin,trash barrel,trash bin\n",
      "[36/100] -- SynsetID: 02747177 -- InstanceID: 161e5e86fa48686888cad7f6c0e6001  -- Name: ashcan,trash can,garbage can,wastebin,ash bin,ash-bin,ashbin,dustbin,trash barrel,trash bin\n",
      "[37/100] -- SynsetID: 02828884 -- InstanceID: 8ad57afa55cebfe0dad433a29cb627ea -- Name: bench\n",
      "[38/100] -- SynsetID: 03337140 -- InstanceID: 53af35fe75337509bce0d8d171e7e87b -- Name: file,file cabinet,filing cabinet\n",
      "[39/100] -- SynsetID: 04256520 -- InstanceID: 52687262fd77ba7e4de2cf65d389c763 -- Name: sofa,couch,lounge\n",
      "[40/100] -- SynsetID: 03207941 -- InstanceID: 7d4a04196d3b8eba7984fb9ec7e40829 -- Name: dishwasher,dish washer,dishwashing machine\n",
      "[41/100] -- SynsetID: 04330267 -- InstanceID: 2c0c7a289d37157ecd8f3fe9ca2145e1 -- Name: stove\n",
      "[42/100] -- SynsetID: 02808440 -- InstanceID: ec1d737b5962bd306e12d65bc1882e95 -- Name: bathtub,bathing tub,bath,tub\n",
      "[43/100] -- SynsetID: 02691156 -- InstanceID: 125417c3fa9bc1b130f57e42c77d3894 -- Name: airplane,aeroplane,plane\n",
      "[44/100] -- SynsetID: 02924116 -- InstanceID: f7c66493e877829eff8a739dd4de4368 -- Name: bus,autobus,coach,charabanc,double-decker,jitney,motorbus,motorcoach,omnibus,passenger vehi\n",
      "[45/100] -- SynsetID: 02747177 -- InstanceID: 71f3b101a6d47811cb2a965e75be701c -- Name: ashcan,trash can,garbage can,wastebin,ash bin,ash-bin,ashbin,dustbin,trash barrel,trash bin\n",
      "[46/100] -- SynsetID: 03046257 -- InstanceID: 2124dd3d1d47f3873f6e4e0af3a53c1b -- Name: clock\n",
      "[47/100] -- SynsetID: 03642806 -- InstanceID: 48e07903fe5057a1d7289d94a5c9ea3f -- Name: laptop,laptop computer\n",
      "[48/100] -- SynsetID: 02942699 -- InstanceID: d6721b4ee3d004b8c7e03242f1bf8d19 -- Name: camera,photographic camera\n",
      "[49/100] -- SynsetID: 02942699 -- InstanceID: 657a650215e453846f90fff80f29e77d -- Name: camera,photographic camera\n",
      "[50/100] -- SynsetID: 03991062 -- InstanceID: b8ad53f8af09fd10e299f2c0038a26f5 -- Name: pot,flowerpot\n",
      "[51/100] -- SynsetID: 03790512 -- InstanceID: 7b4eb8cbc470d0d6d5dde04c96fd8146 -- Name: motorcycle,bike\n",
      "[52/100] -- SynsetID: 03636649 -- InstanceID: 2f345ba66e683c2bc5a208307819a3a1 -- Name: lamp\n",
      "[53/100] -- SynsetID: 04468005 -- InstanceID: e92e28a1ec1c9b2dd85b408a8edc983b -- Name: train,railroad train\n",
      "[54/100] -- SynsetID: 02818832 -- InstanceID: 3378d2b70f083c173f71f25fc2bf23a6 -- Name: bed\n",
      "[55/100] -- SynsetID: 02843684 -- InstanceID: 8a159ab6dc7b409cc211ff482a022b4d -- Name: birdhouse\n",
      "[56/100] -- SynsetID: 03948459 -- InstanceID: a4c228e14915863eb8efd193bc3eb26e -- Name: pistol,handgun,side arm,shooting iron\n",
      "[57/100] -- SynsetID: 03928116 -- InstanceID: 673c3f77f3702338a1845d2858b500eb -- Name: piano,pianoforte,forte-piano\n",
      "[58/100] -- SynsetID: 04004475 -- InstanceID: 73a7d3d05b9dd459ffe3432ba4f2e6d3 -- Name: printer,printing machine\n",
      "[59/100] -- SynsetID: 03046257 -- InstanceID: 327182214670d929f51f77a6d7299806 -- Name: clock\n",
      "[60/100] -- SynsetID: 03790512 -- InstanceID: b91b7ff8ff1b59c6a88e8cb97b773125 -- Name: motorcycle,bike\n",
      "[61/100] -- SynsetID: 03938244 -- InstanceID: d534e22b823ad56f630771196b76eab9 -- Name: pillow\n",
      "[62/100] -- SynsetID: 03759954 -- InstanceID: c66b5236940fa0c474d0d70573a389d9 -- Name: microphone,mike\n",
      "[63/100] -- SynsetID: 03211117 -- InstanceID: 2a08ac484551337a90eb6645edb4567b -- Name: display,video display\n",
      "[64/100] -- SynsetID: 03085013 -- InstanceID: 56794ac8b1257d0799fcd1563ba74ccd -- Name: computer keyboard,keypad\n",
      "[65/100] -- SynsetID: 02747177 -- InstanceID: c50c72eefe225b51cb2a965e75be701c -- Name: ashcan,trash can,garbage can,wastebin,ash bin,ash-bin,ashbin,dustbin,trash barrel,trash bin\n",
      "[66/100] -- SynsetID: 02933112 -- InstanceID: 7415fc8bf90b3696bc08b7cef3268bb  -- Name: cabinet\n",
      "[67/100] -- SynsetID: 03046257 -- InstanceID: fddee751fb9c7244b3c42e318f3affc  -- Name: clock\n",
      "[68/100] -- SynsetID: 03691459 -- InstanceID: f2bb5c899ac2de670eb1591edd539b   -- Name: loudspeaker,speaker,speaker unit,loudspeaker system,speaker system\n",
      "[69/100] -- SynsetID: 02871439 -- InstanceID: fe025a756926fd9620192a5319e3e2e4 -- Name: bookshelf\n",
      "[70/100] -- SynsetID: 04468005 -- InstanceID: 9ce7b859b306c3224b0b2e6e63122009 -- Name: train,railroad train\n",
      "[71/100] -- SynsetID: 03691459 -- InstanceID: b521957294cbb170c7c1bdfb41b9d2d  -- Name: loudspeaker,speaker,speaker unit,loudspeaker system,speaker system\n",
      "[72/100] -- SynsetID: 03928116 -- InstanceID: 5574c469aae489c355005b4420ff0a5  -- Name: piano,pianoforte,forte-piano\n",
      "[73/100] -- SynsetID: 04530566 -- InstanceID: d76ad4ffab09bf27f3e39f2e17005efc -- Name: vessel,watercraft\n",
      "[74/100] -- SynsetID: 02992529 -- InstanceID: 645c1b7e5297cdf567b9bb226efd81df -- Name: cellular telephone,cellular phone,cellphone,cell,mobile phone\n",
      "[75/100] -- SynsetID: 03046257 -- InstanceID: f63ad6dcf847c2f95860148f7c2404c9 -- Name: clock\n",
      "[76/100] -- SynsetID: 04401088 -- InstanceID: 7ea27ed05044031a6fe19ebe291582   -- Name: telephone,phone,telephone set\n",
      "[77/100] -- SynsetID: 04074963 -- InstanceID: 775230183193fb9c39054ca4bd28c2fb -- Name: remote control,remote\n"
     ]
    },
    {
     "name": "stdout",
     "output_type": "stream",
     "text": [
      "[78/100] -- SynsetID: 03991062 -- InstanceID: 7335b7a1eb1bb091bf949868a8099949 -- Name: pot,flowerpot\n",
      "[79/100] -- SynsetID: 04554684 -- InstanceID: a7c8177faa40c43a87be36ce60737655 -- Name: washer,automatic washer,washing machine\n",
      "[80/100] -- SynsetID: 03001627 -- InstanceID: c51937167dd0db45f7628281ecb18112 -- Name: chair\n",
      "[81/100] -- SynsetID: 03467517 -- InstanceID: 890bfa7ff894aeb3ba9e56c15cb175df -- Name: guitar\n",
      "[82/100] -- SynsetID: 03991062 -- InstanceID: 7c86cdecd3b2d29125ebd1cd0b422e32 -- Name: pot,flowerpot\n",
      "[83/100] -- SynsetID: 02801938 -- InstanceID: eb0ad0de58fbfd32ca972daa503b3095 -- Name: basket,handbasket\n",
      "[84/100] -- SynsetID: 03991062 -- InstanceID: 48c94c6283fa5566a4136492f17b9a59 -- Name: pot,flowerpot\n",
      "[85/100] -- SynsetID: 03261776 -- InstanceID: 56c4d7e643d6a7286329e8c7b28434da -- Name: earphone,earpiece,headphone,phone\n",
      "[86/100] -- SynsetID: 03761084 -- InstanceID: 13290e02935a82a22846fa729d90e125 -- Name: microwave,microwave oven\n",
      "[87/100] -- SynsetID: 03759954 -- InstanceID: 3484d12ad3b2f06b35cd53a06b1d2317 -- Name: microphone,mike\n",
      "[88/100] -- SynsetID: 02954340 -- InstanceID: 357c2a333ffefc3e90f80ab08ae6ce2  -- Name: cap\n",
      "[89/100] -- SynsetID: 02880940 -- InstanceID: a83b2eb519fbef17e922c0c19528ec07 -- Name: bowl\n",
      "[90/100] -- SynsetID: 03790512 -- InstanceID: 3156fd3e3101da329b0e27507dc1a100 -- Name: motorcycle,bike\n",
      "[91/100] -- SynsetID: 03467517 -- InstanceID: d4ec02d3ebae75249f4d0101328eae2  -- Name: guitar\n",
      "[92/100] -- SynsetID: 02946921 -- InstanceID: 788094fbf1a523f768104c9df46104ca -- Name: can,tin,tin can\n",
      "[93/100] -- SynsetID: 04460130 -- InstanceID: 17e229dbb42786e6b164f257e05e5435 -- Name: tower\n",
      "[94/100] -- SynsetID: 02946921 -- InstanceID: d511899945a400b183b4ef314c5735aa -- Name: can,tin,tin can\n",
      "[95/100] -- SynsetID: 03593526 -- InstanceID: b2507913d631e8b8bcfad79fc308fa6d -- Name: jar\n",
      "[96/100] -- SynsetID: 02747177 -- InstanceID: 89aff0d006fc22ff9405d3391cbdb79b -- Name: ashcan,trash can,garbage can,wastebin,ash bin,ash-bin,ashbin,dustbin,trash barrel,trash bin\n",
      "[97/100] -- SynsetID: 03624134 -- InstanceID: bee1a473472639e25ca3862a7efa6401 -- Name: knife\n",
      "[98/100] -- SynsetID: 02924116 -- InstanceID: a32145f859e16c791bf41075ed1aebfc -- Name: bus,autobus,coach,charabanc,double-decker,jitney,motorbus,motorcoach,omnibus,passenger vehi\n",
      "[99/100] -- SynsetID: 03761084 -- InstanceID: 71221c380da96cbebe67d9b32c3ddf8  -- Name: microwave,microwave oven\n",
      "[100/100] -- SynsetID: 04401088 -- InstanceID: b77f57d319fd864fda5309001d158b32 -- Name: telephone,phone,telephone set\n"
     ]
    }
   ],
   "source": [
    "subprocess_outputs = []\n",
    "try:\n",
    "    for img_i in range(_N_MODELS_TO_RENDER):\n",
    "        # Randomly select target category\n",
    "        target_category = ''\n",
    "        if _TARGET_CATEGORY_LIST != []:\n",
    "            target_category = np.random.choice(_TARGET_CATEGORY_LIST)\n",
    "        \n",
    "        # Sample object filepath\n",
    "        obj_filepath, synset_id, instance_id, obj_name = shapenet_handler.sample_obj(category_name=target_category)\n",
    "        \n",
    "        # Setup outpath\n",
    "        output_root = os.path.join(_OUTPUT_ROOT, _RENDER_ENGINE, f'synsetID_{synset_id}', instance_id)\n",
    "        \n",
    "        # Randomly select obj scaling\n",
    "        random_scale = np.random.uniform(0.99, 1.15) if _RANDOM_SCALING else 1.0\n",
    "        random_n_occlusions = np.random.randint(3, 7)\n",
    "        \n",
    "        if not os.path.exists(output_root) or _OVERWRITE:\n",
    "            # Remove previous directory if overwrite\n",
    "            if _OVERWRITE and os.path.exists(output_root):\n",
    "                shutil.rmtree(output_root)\n",
    "            \n",
    "            # Run blender script\n",
    "            cmd = f\"blender --background --python {_RENDER_SCRIPT} -- \"\n",
    "            cmd += f\"--output_folder {output_root} --views {_N_VIEW_ANGLES} \"\n",
    "            cmd += f\"--scale {random_scale} --n_occlusions {random_n_occlusions} \"\n",
    "            cmd += f\"--render_engine {_RENDER_ENGINE} \"\n",
    "            cmd += f\"{obj_filepath}\"\n",
    "            out = subprocess.check_output(cmd.split(\" \"), shell=False)\n",
    "            subprocess_outputs.append(out)\n",
    "        else:\n",
    "            print(\"Skipping.\")\n",
    "        \n",
    "        # Stdout\n",
    "        stdout_str = f\"[{img_i+1}/{_N_MODELS_TO_RENDER}] -- \"\n",
    "        stdout_str += f\"SynsetID: {synset_id} -- \"\n",
    "        stdout_str += f\"InstanceID: {instance_id:32s} -- \"\n",
    "        stdout_str += f\"Name: {obj_name}\"\n",
    "        print(stdout_str)\n",
    "        \n",
    "except KeyboardInterrupt:\n",
    "    try:\n",
    "        # Try to cleanup directory with incomplete # renders\n",
    "        if len(os.listdir(output_root)) != _N_VIEW_ANGLES:\n",
    "            shutil.rmtree(output_root)\n",
    "    except:\n",
    "        pass\n",
    "    print(\"\\nEnding early.\")"
   ]
  },
  {
   "cell_type": "markdown",
   "metadata": {},
   "source": [
    "## Background Images"
   ]
  },
  {
   "cell_type": "code",
   "execution_count": 26,
   "metadata": {},
   "outputs": [],
   "source": [
    "background_imgs_root = '/hdd/mliuzzolino/Places2/places365_standard/train'\n",
    "background_img_paths = glob.glob(f'{background_imgs_root}/*/*')"
   ]
  },
  {
   "cell_type": "markdown",
   "metadata": {},
   "source": [
    "## Load Images and Animate"
   ]
  },
  {
   "cell_type": "code",
   "execution_count": 27,
   "metadata": {},
   "outputs": [
    {
     "name": "stdout",
     "output_type": "stream",
     "text": [
      "Processed model 18/18...\n",
      "Limit reached. Ending early.\n"
     ]
    }
   ],
   "source": [
    "_LOAD_LIMIT = 18\n",
    "\n",
    "limit_reached = False\n",
    "\n",
    "all_imgs = []\n",
    "rendered_instance_ids = glob.glob(f\"{os.path.join(_OUTPUT_ROOT, _RENDER_ENGINE)}/*/*\")\n",
    "np.random.shuffle(rendered_instance_ids)\n",
    "for rendered_instance_id in rendered_instance_ids:\n",
    "    sys.stdout.write(f\"\\rProcessed model {len(all_imgs)+1}/{_LOAD_LIMIT}...\")\n",
    "    sys.stdout.flush()\n",
    "\n",
    "    # Load paths\n",
    "    target_img_paths = np.sort(glob.glob(f\"{rendered_instance_id}/*_target.png\"))\n",
    "    occluded_img_paths = [ele.replace('_target', '_occluded') for ele in target_img_paths]\n",
    "    semantic_seg_paths = [ele.replace('_target', '_semseg') for ele in target_img_paths]\n",
    "    \n",
    "\n",
    "    # Load images\n",
    "    target_imgs = [modules.utils.read_image(img_path, parse_mask=True) for img_path in target_img_paths]\n",
    "    occluded_imgs = [modules.utils.read_image(img_path) for img_path in occluded_img_paths]\n",
    "    segmentation_imgs = [modules.utils.read_image(img_path) for img_path in semantic_seg_paths]\n",
    "\n",
    "    # Ensure correct number of view angles present\n",
    "    if len(occluded_imgs) != _N_VIEW_ANGLES:\n",
    "        print(f\"\\t**Error: Insufficient angles! Actual: {len(occluded_imgs)} - Expected: {_N_VIEW_ANGLES}\")\n",
    "        continue\n",
    "\n",
    "    # Setup background image\n",
    "    background_img = modules.utils.sample_background_img(background_img_paths, shape=occluded_imgs[0].shape)\n",
    "\n",
    "    # Apply background image\n",
    "    target_imgs = [modules.utils.add_background(rgb_img, seg_img, background_img) \n",
    "                         for rgb_img, seg_img in target_imgs]\n",
    "    occluded_imgs = [modules.utils.add_background(rgb_img, seg_img, background_img)\n",
    "                         for rgb_img, seg_img in zip(occluded_imgs, segmentation_imgs)]\n",
    "\n",
    "    # Join rgb image with semantic seg image\n",
    "    joined_imgs = [(target, occluded, mask)\n",
    "                       for target, occluded, mask in zip(target_imgs, occluded_imgs, segmentation_imgs)]\n",
    "\n",
    "    # Combine images\n",
    "    joined_imgs = modules.utils.combine_imgs(joined_imgs)\n",
    "    all_imgs.append(joined_imgs)\n",
    "\n",
    "    # Check limit\n",
    "    if len(all_imgs) >= _LOAD_LIMIT:\n",
    "        print(\"\\nLimit reached. Ending early.\")\n",
    "        limit_reached = True\n",
    "        break"
   ]
  },
  {
   "cell_type": "code",
   "execution_count": 28,
   "metadata": {},
   "outputs": [],
   "source": [
    "# Stack all images\n",
    "stacked_imgs = modules.utils.stack_all_imgs(all_imgs, nrow=3)"
   ]
  },
  {
   "cell_type": "code",
   "execution_count": null,
   "metadata": {},
   "outputs": [
    {
     "name": "stdout",
     "output_type": "stream",
     "text": [
      "Building animator...\n",
      "Generating animation object...\n"
     ]
    }
   ],
   "source": [
    "savepath = 'test.gif'\n",
    "animation = modules.utils.toAnimation(stacked_imgs, figsize=(12,12), interval=100, savepath=savepath, fps=15)"
   ]
  },
  {
   "cell_type": "code",
   "execution_count": null,
   "metadata": {},
   "outputs": [],
   "source": [
    "if savepath.endswith('gif'):\n",
    "    display(Image(filename=savepath))"
   ]
  },
  {
   "cell_type": "code",
   "execution_count": null,
   "metadata": {},
   "outputs": [],
   "source": []
  }
 ],
 "metadata": {
  "kernelspec": {
   "display_name": "Python 3",
   "language": "python",
   "name": "python3"
  },
  "language_info": {
   "codemirror_mode": {
    "name": "ipython",
    "version": 3
   },
   "file_extension": ".py",
   "mimetype": "text/x-python",
   "name": "python",
   "nbconvert_exporter": "python",
   "pygments_lexer": "ipython3",
   "version": "3.6.10"
  }
 },
 "nbformat": 4,
 "nbformat_minor": 4
}

{
 "cells": [
  {
   "cell_type": "markdown",
   "metadata": {},
   "source": [
    "# Shapenet Rendering\n",
    "- Blender script source: https://github.com/panmari/stanford-shapenet-renderer\n",
    "\n",
    "## Semantic Segmentation\n",
    "If rendering a single object, we get a mask (interpretted as a binary segmentation map) for free. However, if we want to render multiple objects, either for rendering our target object into a 3D scene or for using secondary models to produce oclusions, then we need to do something more. \n",
    "\n",
    "Here are some references for how we can do semantic segmentation:\n",
    "- https://blender.stackexchange.com/questions/79595/change-diffuse-shader-to-emission-shader-without-affecting-shader-color\n",
    "- https://blender.stackexchange.com/questions/80906/create-a-segmentation-picture-with-each-object-class-rendered-in-different-color/162746#162746\n",
    "- https://blender.stackexchange.com/questions/34609/is-there-a-way-to-streamline-scripting-these-shaders-and-modifier-keyframes\n",
    "- https://github.com/DIYer22/bpycv#install\n",
    " - This seems promising, but I had issues when trying to install openexr"
   ]
  },
  {
   "cell_type": "code",
   "execution_count": 1,
   "metadata": {},
   "outputs": [],
   "source": [
    "%load_ext autoreload\n",
    "%autoreload 2"
   ]
  },
  {
   "cell_type": "code",
   "execution_count": 2,
   "metadata": {},
   "outputs": [],
   "source": [
    "import os\n",
    "import sys\n",
    "import json\n",
    "import glob\n",
    "import cv2\n",
    "import imageio\n",
    "import shutil\n",
    "\n",
    "import subprocess\n",
    "import numpy as np\n",
    "\n",
    "from modules.ShapeNetHandler import ShapeNetHandler\n",
    "import modules.utils\n",
    "\n",
    "from IPython.display import Image, display"
   ]
  },
  {
   "cell_type": "markdown",
   "metadata": {},
   "source": [
    "# Load ShapeNet Handler"
   ]
  },
  {
   "cell_type": "code",
   "execution_count": 3,
   "metadata": {},
   "outputs": [],
   "source": [
    "shapenet_root = \"/hdd/mliuzzolino/ShapeNet/data/ShapeNetCore.v2\"\n",
    "shapenet_handler = ShapeNetHandler(shapenet_root)"
   ]
  },
  {
   "cell_type": "markdown",
   "metadata": {},
   "source": [
    "## Print available categories by name\n",
    "- Can use name to condition random sampling"
   ]
  },
  {
   "cell_type": "code",
   "execution_count": 4,
   "metadata": {},
   "outputs": [],
   "source": [
    "# shapenet_handler.print_categories()"
   ]
  },
  {
   "cell_type": "markdown",
   "metadata": {},
   "source": [
    "## Randomly Sample a filepath"
   ]
  },
  {
   "cell_type": "code",
   "execution_count": 23,
   "metadata": {},
   "outputs": [],
   "source": [
    "temp_obj_filepath, temp_synset_id, temp_instance_id, temp_obj_name = shapenet_handler.sample_obj(category_name='car')"
   ]
  },
  {
   "cell_type": "markdown",
   "metadata": {},
   "source": [
    "## Output Path"
   ]
  },
  {
   "cell_type": "code",
   "execution_count": 24,
   "metadata": {},
   "outputs": [],
   "source": [
    "_OUTPUT_ROOT = 'render_output'"
   ]
  },
  {
   "cell_type": "markdown",
   "metadata": {},
   "source": [
    "# Render"
   ]
  },
  {
   "cell_type": "code",
   "execution_count": 49,
   "metadata": {},
   "outputs": [],
   "source": [
    "_N_VIEW_ANGLES = 72\n",
    "_N_MODELS_TO_RENDER = 60\n",
    "_RANDOM_SCALING = False\n",
    "_OVERWRITE = True\n",
    "_RENDER_ENGINE = 'BLENDER_RENDER' # 'CYCLES', 'BLENDER_RENDER'\n",
    "_RENDER_SCRIPT = \"scripts/blender_render.py\"\n",
    "_TARGET_CATEGORY_LIST = ['airplane', 'car']"
   ]
  },
  {
   "cell_type": "markdown",
   "metadata": {},
   "source": [
    "## Run Blender"
   ]
  },
  {
   "cell_type": "code",
   "execution_count": 50,
   "metadata": {},
   "outputs": [
    {
     "name": "stdout",
     "output_type": "stream",
     "text": [
      "[1/60] -- SynsetID: 02691156 -- InstanceID: 2efa2cfc42f2ff481b27cd1681a3d0e7 -- Name: airplane,aeroplane,plane\n",
      "[2/60] -- SynsetID: 02691156 -- InstanceID: 7f895411162624e92023ec956848b741 -- Name: airplane,aeroplane,plane\n",
      "[3/60] -- SynsetID: 02691156 -- InstanceID: 559f9a545b9b98a1d433b2698458193  -- Name: airplane,aeroplane,plane\n",
      "[4/60] -- SynsetID: 02958343 -- InstanceID: 8ceb581fe28a6496510c6353f9f7a5e3 -- Name: car,auto,automobile,machine,motorcar\n",
      "[5/60] -- SynsetID: 02691156 -- InstanceID: 8e50f707e506f65f66cf1b4a8fc3914e -- Name: airplane,aeroplane,plane\n",
      "[6/60] -- SynsetID: 02958343 -- InstanceID: 2dd2a5154bcf52c2aeebd3372dbf7ae6 -- Name: car,auto,automobile,machine,motorcar\n",
      "[7/60] -- SynsetID: 02691156 -- InstanceID: 1ce5b9a79420e946bff7790df3158906 -- Name: airplane,aeroplane,plane\n",
      "[8/60] -- SynsetID: 02958343 -- InstanceID: c4941d6a2266813c3a2b1a2e5e169910 -- Name: car,auto,automobile,machine,motorcar\n",
      "[9/60] -- SynsetID: 02958343 -- InstanceID: e9bdc6c0a9e4675bbecf71e2e014ff6f -- Name: car,auto,automobile,machine,motorcar\n",
      "[10/60] -- SynsetID: 02958343 -- InstanceID: 834c7e46dfe757b4d229396ef51d2d02 -- Name: car,auto,automobile,machine,motorcar\n",
      "[11/60] -- SynsetID: 02691156 -- InstanceID: e17a696c47d4292393db03f6b4e68f17 -- Name: airplane,aeroplane,plane\n",
      "[12/60] -- SynsetID: 02691156 -- InstanceID: 3a7e396786751f544c3a35cee92bb95b -- Name: airplane,aeroplane,plane\n",
      "[13/60] -- SynsetID: 02691156 -- InstanceID: bff6cee515cdefa8a5effc03faf54012 -- Name: airplane,aeroplane,plane\n",
      "[14/60] -- SynsetID: 02958343 -- InstanceID: 8bf8a7694267756e3ab3dfa44f5fab01 -- Name: car,auto,automobile,machine,motorcar\n",
      "[15/60] -- SynsetID: 02691156 -- InstanceID: de9564aeaa585a6ccbc790a63192d2ab -- Name: airplane,aeroplane,plane\n",
      "[16/60] -- SynsetID: 02958343 -- InstanceID: ea58938dca17f3853c9cf79df3851b10 -- Name: car,auto,automobile,machine,motorcar\n",
      "[17/60] -- SynsetID: 02691156 -- InstanceID: b1deb3638098e9c92a4947824596dce3 -- Name: airplane,aeroplane,plane\n",
      "[18/60] -- SynsetID: 02958343 -- InstanceID: c00ec8e0880f507ba2e48b029cec5d4b -- Name: car,auto,automobile,machine,motorcar\n",
      "[19/60] -- SynsetID: 02691156 -- InstanceID: a1c3287d5e847f866b7bd17e458d0dcb -- Name: airplane,aeroplane,plane\n",
      "[20/60] -- SynsetID: 02958343 -- InstanceID: 5351646fca246bc989c6f1079da7a8d4 -- Name: car,auto,automobile,machine,motorcar\n",
      "[21/60] -- SynsetID: 02958343 -- InstanceID: 6c339c89246fe6a651db49e653372c20 -- Name: car,auto,automobile,machine,motorcar\n",
      "[22/60] -- SynsetID: 02958343 -- InstanceID: 8d6de65bee9c269bf222d93492cfe0b9 -- Name: car,auto,automobile,machine,motorcar\n",
      "[23/60] -- SynsetID: 02958343 -- InstanceID: ac813039f9a4468ccc777d23edf2f8d8 -- Name: car,auto,automobile,machine,motorcar\n",
      "[24/60] -- SynsetID: 02691156 -- InstanceID: 732ff6155a096fb0151f2df200a24ac  -- Name: airplane,aeroplane,plane\n",
      "[25/60] -- SynsetID: 02691156 -- InstanceID: 669060a91dc45dfd2ede7237ec38a80  -- Name: airplane,aeroplane,plane\n",
      "[26/60] -- SynsetID: 02958343 -- InstanceID: 63599f1dc1511c25d76439fb95cdd2ed -- Name: car,auto,automobile,machine,motorcar\n",
      "[27/60] -- SynsetID: 02691156 -- InstanceID: ba784e6de35a5c6b4f8a08a5e6b028e7 -- Name: airplane,aeroplane,plane\n",
      "[28/60] -- SynsetID: 02958343 -- InstanceID: dfec37059dcbf6e64819e00d73fd49e1 -- Name: car,auto,automobile,machine,motorcar\n",
      "[29/60] -- SynsetID: 02691156 -- InstanceID: 57f30880519c8270e58d21f41272cdad -- Name: airplane,aeroplane,plane\n",
      "[30/60] -- SynsetID: 02958343 -- InstanceID: 1b2ef0809ca1abc7ca92a4cdad802b45 -- Name: car,auto,automobile,machine,motorcar\n",
      "[31/60] -- SynsetID: 02691156 -- InstanceID: 31a06c63b8932cac8bec85d7b4e1ee67 -- Name: airplane,aeroplane,plane\n",
      "[32/60] -- SynsetID: 02958343 -- InstanceID: f8954a634d103c54ea778d6c713d08dc -- Name: car,auto,automobile,machine,motorcar\n",
      "[33/60] -- SynsetID: 02691156 -- InstanceID: da6faddc7079ce8ab6befd5df74fffa2 -- Name: airplane,aeroplane,plane\n",
      "[34/60] -- SynsetID: 02958343 -- InstanceID: 872e01a1c34494b737fd267fe4b3a5ee -- Name: car,auto,automobile,machine,motorcar\n",
      "[35/60] -- SynsetID: 02691156 -- InstanceID: 960d086565fd36def0a9e4c23bc75c0  -- Name: airplane,aeroplane,plane\n",
      "[36/60] -- SynsetID: 02691156 -- InstanceID: b5b0dac4093a61cb3f2b01de37c0b29  -- Name: airplane,aeroplane,plane\n",
      "[37/60] -- SynsetID: 02691156 -- InstanceID: 3923b98b26a3c7865f50257ecdfa5c7  -- Name: airplane,aeroplane,plane\n",
      "[38/60] -- SynsetID: 02958343 -- InstanceID: b47070a91102db1abe40bb45ea25a041 -- Name: car,auto,automobile,machine,motorcar\n",
      "[39/60] -- SynsetID: 02691156 -- InstanceID: bbc645e0c0449532b3c7301213dfb7   -- Name: airplane,aeroplane,plane\n",
      "[41/60] -- SynsetID: 02691156 -- InstanceID: 68c61d42222863682296d88107d065f6 -- Name: airplane,aeroplane,plane\n",
      "[42/60] -- SynsetID: 02958343 -- InstanceID: 706671ef8c7b5e28a6c2c95b41a5446d -- Name: car,auto,automobile,machine,motorcar\n",
      "[43/60] -- SynsetID: 02691156 -- InstanceID: 16ef481509c64f845dcf422dd1ee66d9 -- Name: airplane,aeroplane,plane\n",
      "[44/60] -- SynsetID: 02691156 -- InstanceID: c476ac72594e39ffbd46d022fd7d80aa -- Name: airplane,aeroplane,plane\n",
      "[45/60] -- SynsetID: 02958343 -- InstanceID: 21999849a6a8aad752470de2774d6099 -- Name: car,auto,automobile,machine,motorcar\n",
      "[46/60] -- SynsetID: 02958343 -- InstanceID: 110ab054cfc351f46a2345809e2bb169 -- Name: car,auto,automobile,machine,motorcar\n",
      "[47/60] -- SynsetID: 02958343 -- InstanceID: a5b7cc1a5ab2828b28b0b7b876595fb8 -- Name: car,auto,automobile,machine,motorcar\n",
      "[48/60] -- SynsetID: 02691156 -- InstanceID: 2c9e063352a538a4af7dd1bfd65143a9 -- Name: airplane,aeroplane,plane\n",
      "[49/60] -- SynsetID: 02691156 -- InstanceID: 66b9ccf5842ed7f79330265a9fff38de -- Name: airplane,aeroplane,plane\n",
      "[50/60] -- SynsetID: 02691156 -- InstanceID: 84615b34a2c8a2868699933784576e73 -- Name: airplane,aeroplane,plane\n",
      "[51/60] -- SynsetID: 02691156 -- InstanceID: d20e3ed9b3430672bbf3143b1cb6076a -- Name: airplane,aeroplane,plane\n",
      "[52/60] -- SynsetID: 02691156 -- InstanceID: 62bc52c204b738317dcda43eefa0ac02 -- Name: airplane,aeroplane,plane\n",
      "[53/60] -- SynsetID: 02691156 -- InstanceID: d60ec60e091e9d7ade125dc914c4bb9c -- Name: airplane,aeroplane,plane\n",
      "[54/60] -- SynsetID: 02691156 -- InstanceID: 6e4570ef29d420e17099115060cea9b5 -- Name: airplane,aeroplane,plane\n",
      "[55/60] -- SynsetID: 02691156 -- InstanceID: 6b84749eaca0e657f37f38dedb2f1219 -- Name: airplane,aeroplane,plane\n",
      "[56/60] -- SynsetID: 02958343 -- InstanceID: f60779c934ee51eddd1e15301c83686f -- Name: car,auto,automobile,machine,motorcar\n",
      "[57/60] -- SynsetID: 02958343 -- InstanceID: 7c85e6cf9c4f46e91cc13e432d5756b8 -- Name: car,auto,automobile,machine,motorcar\n",
      "[58/60] -- SynsetID: 02691156 -- InstanceID: db628662ba1cac04b627754c4259e985 -- Name: airplane,aeroplane,plane\n",
      "[59/60] -- SynsetID: 02691156 -- InstanceID: 39d7e8e001e0234e8f721bc8b8155d7  -- Name: airplane,aeroplane,plane\n",
      "[60/60] -- SynsetID: 02958343 -- InstanceID: 53a031dd120e81dc3aa562f24645e326 -- Name: car,auto,automobile,machine,motorcar\n"
     ]
    }
   ],
   "source": [
    "subprocess_outputs = []\n",
    "try:\n",
    "    for img_i in range(_N_MODELS_TO_RENDER):\n",
    "        # Randomly select target category\n",
    "        target_category = ''\n",
    "        if _TARGET_CATEGORY_LIST != []:\n",
    "            target_category = np.random.choice(_TARGET_CATEGORY_LIST)\n",
    "        \n",
    "        # Sample object filepath\n",
    "        obj_filepath, synset_id, instance_id, obj_name = shapenet_handler.sample_obj(category_name=target_category)\n",
    "        \n",
    "        # Setup outpath\n",
    "        output_root = os.path.join(_OUTPUT_ROOT, _RENDER_ENGINE, f'synsetID_{synset_id}', instance_id)\n",
    "        \n",
    "        # Randomly select obj scaling\n",
    "        random_scale = np.random.uniform(0.99, 1.15) if _RANDOM_SCALING else 1.0\n",
    "        random_n_occlusions = np.random.randint(3, 7)\n",
    "        \n",
    "        if not os.path.exists(output_root) or _OVERWRITE:\n",
    "            # Remove previous directory if overwrite\n",
    "            if _OVERWRITE and os.path.exists(output_root):\n",
    "                shutil.rmtree(output_root)\n",
    "            \n",
    "            # Run blender script\n",
    "            cmd = f\"blender --background --python {_RENDER_SCRIPT} -- \"\n",
    "            cmd += f\"--output_folder {output_root} --views {_N_VIEW_ANGLES} \"\n",
    "            cmd += f\"--scale {random_scale} --n_occlusions {random_n_occlusions} \"\n",
    "            cmd += f\"--render_engine {_RENDER_ENGINE} \"\n",
    "            cmd += f\"{obj_filepath}\"\n",
    "            out = subprocess.check_output(cmd.split(\" \"), shell=False)\n",
    "            subprocess_outputs.append(out)\n",
    "        else:\n",
    "            print(\"Skipping.\")\n",
    "        \n",
    "        # Stdout\n",
    "        stdout_str = f\"[{img_i+1}/{_N_MODELS_TO_RENDER}] -- \"\n",
    "        stdout_str += f\"SynsetID: {synset_id} -- \"\n",
    "        stdout_str += f\"InstanceID: {instance_id:32s} -- \"\n",
    "        stdout_str += f\"Name: {obj_name}\"\n",
    "        print(stdout_str)\n",
    "        \n",
    "except KeyboardInterrupt:\n",
    "    try:\n",
    "        # Try to cleanup directory with incomplete # renders\n",
    "        if len(os.listdir(output_root)) != _N_VIEW_ANGLES:\n",
    "            shutil.rmtree(output_root)\n",
    "    except:\n",
    "        pass\n",
    "    print(\"\\nEnding early.\")"
   ]
  },
  {
   "cell_type": "markdown",
   "metadata": {},
   "source": [
    "## Background Images"
   ]
  },
  {
   "cell_type": "code",
   "execution_count": 51,
   "metadata": {},
   "outputs": [],
   "source": [
    "background_imgs_root = '/hdd/mliuzzolino/Places2/places365_standard/train'\n",
    "background_img_paths = glob.glob(f'{background_imgs_root}/*/*')"
   ]
  },
  {
   "cell_type": "markdown",
   "metadata": {},
   "source": [
    "## Load Images and Animate"
   ]
  },
  {
   "cell_type": "code",
   "execution_count": 52,
   "metadata": {},
   "outputs": [],
   "source": [
    "def add_background(RGB_img, segmentation_img, background_img):\n",
    "    mask = segmentation_img > 0\n",
    "    RGB_img[np.where(~mask)] = background_img[np.where(~mask)]\n",
    "    return RGB_img"
   ]
  },
  {
   "cell_type": "code",
   "execution_count": 53,
   "metadata": {},
   "outputs": [],
   "source": [
    "def sample_background_img(background_img_paths, shape):\n",
    "    random_background_path = np.random.choice(background_img_paths)\n",
    "    background_img = imageio.imread(random_background_path)\n",
    "    background_img = cv2.resize(background_img, shape[:2][::-1])\n",
    "    return background_img"
   ]
  },
  {
   "cell_type": "code",
   "execution_count": 62,
   "metadata": {},
   "outputs": [
    {
     "name": "stdout",
     "output_type": "stream",
     "text": [
      "Processed model 18/18...\n",
      "Limit reached. Ending early.\n"
     ]
    }
   ],
   "source": [
    "_LOAD_LIMIT = 18\n",
    "\n",
    "limit_reached = False\n",
    "\n",
    "all_imgs = []\n",
    "rendered_instance_ids = glob.glob(f\"{os.path.join(_OUTPUT_ROOT, _RENDER_ENGINE)}/*/*\")\n",
    "np.random.shuffle(rendered_instance_ids)\n",
    "for rendered_instance_id in rendered_instance_ids:\n",
    "    sys.stdout.write(f\"\\rProcessed model {len(all_imgs)+1}/{_LOAD_LIMIT}...\")\n",
    "    sys.stdout.flush()\n",
    "\n",
    "    # Load paths\n",
    "    rendered_img_paths = np.sort(glob.glob(f\"{rendered_instance_id}/*RGBA_full.png\"))\n",
    "    semantic_seg_paths = [ele.replace('_full', '_semantic_segmentation') for ele in rendered_img_paths]\n",
    "\n",
    "    # Load images\n",
    "    rendered_imgs = [modules.utils.read_image(img_path) \n",
    "                         for img_path in rendered_img_paths]\n",
    "    segmentation_imgs = [modules.utils.read_image(img_path)\n",
    "                         for img_path in semantic_seg_paths]\n",
    "\n",
    "    # Ensure correct number of view angles present\n",
    "    if len(rendered_imgs) != _N_VIEW_ANGLES:\n",
    "        print(f\"\\t**Error: Insufficient angles! Actual: {len(rendered_imgs)} - Expected: {_N_VIEW_ANGLES}\")\n",
    "        continue\n",
    "\n",
    "    # Setup background image\n",
    "    background_img = sample_background_img(background_img_paths, shape=rendered_imgs[0].shape)\n",
    "\n",
    "    # Apply background image\n",
    "    rendered_imgs = [add_background(rgb_img, seg_img, background_img) \n",
    "                         for rgb_img, seg_img in zip(rendered_imgs, segmentation_imgs)]\n",
    "\n",
    "    # Join rgb image with semantic seg image\n",
    "    rendered_imgs = [(rgb, mask) for rgb, mask in zip(rendered_imgs, segmentation_imgs)]\n",
    "\n",
    "    # Combine images\n",
    "    combined_imgs = modules.utils.combine_imgs(rendered_imgs)\n",
    "    all_imgs.append(combined_imgs)\n",
    "\n",
    "    # Check limit\n",
    "    if len(all_imgs) >= _LOAD_LIMIT:\n",
    "        print(\"\\nLimit reached. Ending early.\")\n",
    "        limit_reached = True\n",
    "        break"
   ]
  },
  {
   "cell_type": "code",
   "execution_count": 63,
   "metadata": {},
   "outputs": [],
   "source": [
    "# Stack all images\n",
    "stacked_imgs = modules.utils.stack_all_imgs(all_imgs, nrow=3)"
   ]
  },
  {
   "cell_type": "code",
   "execution_count": 64,
   "metadata": {},
   "outputs": [
    {
     "name": "stdout",
     "output_type": "stream",
     "text": [
      "Building animator...\n",
      "Generating animation object...\n",
      "Saving to test.gif...\n",
      "Fin.\n"
     ]
    }
   ],
   "source": [
    "savepath = 'test.gif'\n",
    "animation = modules.utils.toAnimation(stacked_imgs, figsize=(12,12), interval=100, savepath=savepath, fps=15)"
   ]
  },
  {
   "cell_type": "code",
   "execution_count": null,
   "metadata": {},
   "outputs": [],
   "source": [
    "if savepath.endswith('gif'):\n",
    "    display(Image(filename=savepath))"
   ]
  },
  {
   "cell_type": "code",
   "execution_count": null,
   "metadata": {},
   "outputs": [],
   "source": []
  }
 ],
 "metadata": {
  "kernelspec": {
   "display_name": "Python 3",
   "language": "python",
   "name": "python3"
  },
  "language_info": {
   "codemirror_mode": {
    "name": "ipython",
    "version": 3
   },
   "file_extension": ".py",
   "mimetype": "text/x-python",
   "name": "python",
   "nbconvert_exporter": "python",
   "pygments_lexer": "ipython3",
   "version": "3.6.10"
  }
 },
 "nbformat": 4,
 "nbformat_minor": 4
}
